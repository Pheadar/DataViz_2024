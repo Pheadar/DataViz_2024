{
 "cells": [
  {
   "cell_type": "code",
   "execution_count": 2,
   "metadata": {},
   "outputs": [],
   "source": [
    "import plotly.express as px\n",
    "import pandas as pd\n",
    "from datetime import datetime\n",
    "import plotly.graph_objects as go"
   ]
  },
  {
   "cell_type": "code",
   "execution_count": 76,
   "metadata": {},
   "outputs": [
    {
     "data": {
      "application/vnd.plotly.v1+json": {
       "config": {
        "plotlyServerURL": "https://plot.ly"
       },
       "data": [
        {
         "alignmentgroup": "True",
         "base": [
          "2001-01-01T00:00:00"
         ],
         "hovertemplate": "Constructors=%{y}<br>start.season=%{base}<br>End.season=%{x}<extra></extra>",
         "legendgroup": "Minardi",
         "marker": {
          "color": "black",
          "opacity": [
           1
          ],
          "pattern": {
           "shape": ""
          }
         },
         "name": "Minardi",
         "offsetgroup": "Minardi",
         "orientation": "h",
         "showlegend": true,
         "textposition": "auto",
         "type": "bar",
         "x": [
          63072000000
         ],
         "xaxis": "x",
         "y": [
          "Minardi"
         ],
         "yaxis": "y"
        },
        {
         "alignmentgroup": "True",
         "base": [
          "2003-01-01T00:00:00",
          "2008-01-01T00:00:00"
         ],
         "hovertemplate": "Constructors=%{y}<br>start.season=%{base}<br>End.season=%{x}<extra></extra>",
         "legendgroup": "Renault",
         "marker": {
          "color": "#fcd205",
          "opacity": [
           1,
           1
          ],
          "pattern": {
           "shape": ""
          }
         },
         "name": "Renault",
         "offsetgroup": "Renault",
         "orientation": "h",
         "showlegend": true,
         "textposition": "auto",
         "type": "bar",
         "x": [
          126230400000,
          63158400000
         ],
         "xaxis": "x",
         "y": [
          "Renault",
          "Renault"
         ],
         "yaxis": "y"
        },
        {
         "alignmentgroup": "True",
         "base": [
          "2007-01-01T00:00:00",
          "2015-01-01T00:00:00"
         ],
         "hovertemplate": "Constructors=%{y}<br>start.season=%{base}<br>End.season=%{x}<extra></extra>",
         "legendgroup": "McLaren",
         "marker": {
          "color": "#E56717",
          "opacity": [
           1,
           1
          ],
          "pattern": {
           "shape": ""
          }
         },
         "name": "McLaren",
         "offsetgroup": "McLaren",
         "orientation": "h",
         "showlegend": true,
         "textposition": "auto",
         "type": "bar",
         "x": [
          31536000000,
          126230400000
         ],
         "xaxis": "x",
         "y": [
          "McLaren",
          "McLaren"
         ],
         "yaxis": "y"
        },
        {
         "alignmentgroup": "True",
         "base": [
          "2010-01-01T00:00:00"
         ],
         "hovertemplate": "Constructors=%{y}<br>start.season=%{base}<br>End.season=%{x}<extra></extra>",
         "legendgroup": "Ferrari",
         "marker": {
          "color": "#F70D1A",
          "opacity": [
           1
          ],
          "pattern": {
           "shape": ""
          }
         },
         "name": "Ferrari",
         "offsetgroup": "Ferrari",
         "orientation": "h",
         "showlegend": true,
         "textposition": "auto",
         "type": "bar",
         "x": [
          157766400000
         ],
         "xaxis": "x",
         "y": [
          "Ferrari"
         ],
         "yaxis": "y"
        },
        {
         "alignmentgroup": "True",
         "base": [
          "2021-01-01T00:00:00"
         ],
         "hovertemplate": "Constructors=%{y}<br>start.season=%{base}<br>End.season=%{x}<extra></extra>",
         "legendgroup": "Alpine",
         "marker": {
          "color": "#2673E2",
          "opacity": [
           1
          ],
          "pattern": {
           "shape": ""
          }
         },
         "name": "Alpine",
         "offsetgroup": "Alpine",
         "orientation": "h",
         "showlegend": true,
         "textposition": "auto",
         "type": "bar",
         "x": [
          63072000000
         ],
         "xaxis": "x",
         "y": [
          "Alpine"
         ],
         "yaxis": "y"
        },
        {
         "alignmentgroup": "True",
         "base": [
          "2023-01-01T00:00:00",
          "2024-01-01T00:00:00"
         ],
         "hovertemplate": "Constructors=%{y}<br>start.season=%{base}<br>End.season=%{x}<extra></extra>",
         "legendgroup": "Aston Martin",
         "marker": {
          "color": "#004225",
          "opacity": [
           1,
           0.66
          ],
          "pattern": {
           "shape": ""
          }
         },
         "name": "Aston Martin",
         "offsetgroup": "Aston Martin",
         "orientation": "h",
         "showlegend": true,
         "textposition": "auto",
         "type": "bar",
         "x": [
          31536000000,
          63158400000
         ],
         "xaxis": "x",
         "y": [
          "Aston Martin",
          "Aston Martin"
         ],
         "yaxis": "y"
        }
       ],
       "layout": {
        "annotations": [
         {
          "align": "right",
          "font": {
           "color": "gold",
           "family": "Calibri",
           "size": 12,
           "weight": "bold"
          },
          "showarrow": false,
          "text": "Minardi",
          "x": "2002-10-20T00:00:00",
          "xanchor": "right",
          "y": "Minardi"
         },
         {
          "align": "right",
          "font": {
           "color": "grey",
           "family": "Calibri",
           "size": 12,
           "weight": "bold"
          },
          "showarrow": false,
          "text": "Renault",
          "x": "2009-10-19T21:36:00",
          "xanchor": "right",
          "y": "Renault"
         },
         {
          "align": "right",
          "font": {
           "color": "yellow",
           "family": "Calibri",
           "size": 12,
           "weight": "bold"
          },
          "showarrow": false,
          "text": "Ferrari",
          "x": "2014-07-02T09:36:00",
          "xanchor": "right",
          "y": "Ferrari"
         },
         {
          "align": "right",
          "font": {
           "color": "black",
           "family": "Calibri",
           "size": 12,
           "weight": "bold"
          },
          "showarrow": false,
          "text": "McLaren",
          "x": "2018-08-07T21:36:00",
          "xanchor": "right",
          "y": "McLaren"
         },
         {
          "align": "right",
          "font": {
           "color": "white",
           "family": "Calibri",
           "size": 12,
           "weight": "bold"
          },
          "showarrow": false,
          "text": "Alpine",
          "x": "2022-10-20T00:00:00",
          "xanchor": "right",
          "y": "Alpine"
         },
         {
          "align": "right",
          "font": {
           "color": "white",
           "family": "Calibri",
           "size": 12,
           "weight": "bold"
          },
          "showarrow": false,
          "text": "Aston Martin",
          "x": "2025-10-19T21:36:00",
          "xanchor": "right",
          "y": "Aston Martin"
         }
        ],
        "barmode": "overlay",
        "legend": {
         "title": {
          "text": "Constructors"
         },
         "tracegroupgap": 0
        },
        "margin": {
         "t": 60
        },
        "paper_bgcolor": "white",
        "plot_bgcolor": "white",
        "shapes": [
         {
          "line": {
           "color": "red",
           "width": 1.5
          },
          "type": "line",
          "x0": "2005-01-01",
          "x1": "2005-01-01",
          "y0": -0.5,
          "y1": 5.5
         },
         {
          "line": {
           "color": "red",
           "width": 1.5
          },
          "type": "line",
          "x0": "2006-01-02",
          "x1": "2006-01-02",
          "y0": -0.5,
          "y1": 5.5
         }
        ],
        "showlegend": false,
        "template": {
         "data": {
          "bar": [
           {
            "error_x": {
             "color": "#2a3f5f"
            },
            "error_y": {
             "color": "#2a3f5f"
            },
            "marker": {
             "line": {
              "color": "#E5ECF6",
              "width": 0.5
             },
             "pattern": {
              "fillmode": "overlay",
              "size": 10,
              "solidity": 0.2
             }
            },
            "type": "bar"
           }
          ],
          "barpolar": [
           {
            "marker": {
             "line": {
              "color": "#E5ECF6",
              "width": 0.5
             },
             "pattern": {
              "fillmode": "overlay",
              "size": 10,
              "solidity": 0.2
             }
            },
            "type": "barpolar"
           }
          ],
          "carpet": [
           {
            "aaxis": {
             "endlinecolor": "#2a3f5f",
             "gridcolor": "white",
             "linecolor": "white",
             "minorgridcolor": "white",
             "startlinecolor": "#2a3f5f"
            },
            "baxis": {
             "endlinecolor": "#2a3f5f",
             "gridcolor": "white",
             "linecolor": "white",
             "minorgridcolor": "white",
             "startlinecolor": "#2a3f5f"
            },
            "type": "carpet"
           }
          ],
          "choropleth": [
           {
            "colorbar": {
             "outlinewidth": 0,
             "ticks": ""
            },
            "type": "choropleth"
           }
          ],
          "contour": [
           {
            "colorbar": {
             "outlinewidth": 0,
             "ticks": ""
            },
            "colorscale": [
             [
              0,
              "#0d0887"
             ],
             [
              0.1111111111111111,
              "#46039f"
             ],
             [
              0.2222222222222222,
              "#7201a8"
             ],
             [
              0.3333333333333333,
              "#9c179e"
             ],
             [
              0.4444444444444444,
              "#bd3786"
             ],
             [
              0.5555555555555556,
              "#d8576b"
             ],
             [
              0.6666666666666666,
              "#ed7953"
             ],
             [
              0.7777777777777778,
              "#fb9f3a"
             ],
             [
              0.8888888888888888,
              "#fdca26"
             ],
             [
              1,
              "#f0f921"
             ]
            ],
            "type": "contour"
           }
          ],
          "contourcarpet": [
           {
            "colorbar": {
             "outlinewidth": 0,
             "ticks": ""
            },
            "type": "contourcarpet"
           }
          ],
          "heatmap": [
           {
            "colorbar": {
             "outlinewidth": 0,
             "ticks": ""
            },
            "colorscale": [
             [
              0,
              "#0d0887"
             ],
             [
              0.1111111111111111,
              "#46039f"
             ],
             [
              0.2222222222222222,
              "#7201a8"
             ],
             [
              0.3333333333333333,
              "#9c179e"
             ],
             [
              0.4444444444444444,
              "#bd3786"
             ],
             [
              0.5555555555555556,
              "#d8576b"
             ],
             [
              0.6666666666666666,
              "#ed7953"
             ],
             [
              0.7777777777777778,
              "#fb9f3a"
             ],
             [
              0.8888888888888888,
              "#fdca26"
             ],
             [
              1,
              "#f0f921"
             ]
            ],
            "type": "heatmap"
           }
          ],
          "heatmapgl": [
           {
            "colorbar": {
             "outlinewidth": 0,
             "ticks": ""
            },
            "colorscale": [
             [
              0,
              "#0d0887"
             ],
             [
              0.1111111111111111,
              "#46039f"
             ],
             [
              0.2222222222222222,
              "#7201a8"
             ],
             [
              0.3333333333333333,
              "#9c179e"
             ],
             [
              0.4444444444444444,
              "#bd3786"
             ],
             [
              0.5555555555555556,
              "#d8576b"
             ],
             [
              0.6666666666666666,
              "#ed7953"
             ],
             [
              0.7777777777777778,
              "#fb9f3a"
             ],
             [
              0.8888888888888888,
              "#fdca26"
             ],
             [
              1,
              "#f0f921"
             ]
            ],
            "type": "heatmapgl"
           }
          ],
          "histogram": [
           {
            "marker": {
             "pattern": {
              "fillmode": "overlay",
              "size": 10,
              "solidity": 0.2
             }
            },
            "type": "histogram"
           }
          ],
          "histogram2d": [
           {
            "colorbar": {
             "outlinewidth": 0,
             "ticks": ""
            },
            "colorscale": [
             [
              0,
              "#0d0887"
             ],
             [
              0.1111111111111111,
              "#46039f"
             ],
             [
              0.2222222222222222,
              "#7201a8"
             ],
             [
              0.3333333333333333,
              "#9c179e"
             ],
             [
              0.4444444444444444,
              "#bd3786"
             ],
             [
              0.5555555555555556,
              "#d8576b"
             ],
             [
              0.6666666666666666,
              "#ed7953"
             ],
             [
              0.7777777777777778,
              "#fb9f3a"
             ],
             [
              0.8888888888888888,
              "#fdca26"
             ],
             [
              1,
              "#f0f921"
             ]
            ],
            "type": "histogram2d"
           }
          ],
          "histogram2dcontour": [
           {
            "colorbar": {
             "outlinewidth": 0,
             "ticks": ""
            },
            "colorscale": [
             [
              0,
              "#0d0887"
             ],
             [
              0.1111111111111111,
              "#46039f"
             ],
             [
              0.2222222222222222,
              "#7201a8"
             ],
             [
              0.3333333333333333,
              "#9c179e"
             ],
             [
              0.4444444444444444,
              "#bd3786"
             ],
             [
              0.5555555555555556,
              "#d8576b"
             ],
             [
              0.6666666666666666,
              "#ed7953"
             ],
             [
              0.7777777777777778,
              "#fb9f3a"
             ],
             [
              0.8888888888888888,
              "#fdca26"
             ],
             [
              1,
              "#f0f921"
             ]
            ],
            "type": "histogram2dcontour"
           }
          ],
          "mesh3d": [
           {
            "colorbar": {
             "outlinewidth": 0,
             "ticks": ""
            },
            "type": "mesh3d"
           }
          ],
          "parcoords": [
           {
            "line": {
             "colorbar": {
              "outlinewidth": 0,
              "ticks": ""
             }
            },
            "type": "parcoords"
           }
          ],
          "pie": [
           {
            "automargin": true,
            "type": "pie"
           }
          ],
          "scatter": [
           {
            "fillpattern": {
             "fillmode": "overlay",
             "size": 10,
             "solidity": 0.2
            },
            "type": "scatter"
           }
          ],
          "scatter3d": [
           {
            "line": {
             "colorbar": {
              "outlinewidth": 0,
              "ticks": ""
             }
            },
            "marker": {
             "colorbar": {
              "outlinewidth": 0,
              "ticks": ""
             }
            },
            "type": "scatter3d"
           }
          ],
          "scattercarpet": [
           {
            "marker": {
             "colorbar": {
              "outlinewidth": 0,
              "ticks": ""
             }
            },
            "type": "scattercarpet"
           }
          ],
          "scattergeo": [
           {
            "marker": {
             "colorbar": {
              "outlinewidth": 0,
              "ticks": ""
             }
            },
            "type": "scattergeo"
           }
          ],
          "scattergl": [
           {
            "marker": {
             "colorbar": {
              "outlinewidth": 0,
              "ticks": ""
             }
            },
            "type": "scattergl"
           }
          ],
          "scattermapbox": [
           {
            "marker": {
             "colorbar": {
              "outlinewidth": 0,
              "ticks": ""
             }
            },
            "type": "scattermapbox"
           }
          ],
          "scatterpolar": [
           {
            "marker": {
             "colorbar": {
              "outlinewidth": 0,
              "ticks": ""
             }
            },
            "type": "scatterpolar"
           }
          ],
          "scatterpolargl": [
           {
            "marker": {
             "colorbar": {
              "outlinewidth": 0,
              "ticks": ""
             }
            },
            "type": "scatterpolargl"
           }
          ],
          "scatterternary": [
           {
            "marker": {
             "colorbar": {
              "outlinewidth": 0,
              "ticks": ""
             }
            },
            "type": "scatterternary"
           }
          ],
          "surface": [
           {
            "colorbar": {
             "outlinewidth": 0,
             "ticks": ""
            },
            "colorscale": [
             [
              0,
              "#0d0887"
             ],
             [
              0.1111111111111111,
              "#46039f"
             ],
             [
              0.2222222222222222,
              "#7201a8"
             ],
             [
              0.3333333333333333,
              "#9c179e"
             ],
             [
              0.4444444444444444,
              "#bd3786"
             ],
             [
              0.5555555555555556,
              "#d8576b"
             ],
             [
              0.6666666666666666,
              "#ed7953"
             ],
             [
              0.7777777777777778,
              "#fb9f3a"
             ],
             [
              0.8888888888888888,
              "#fdca26"
             ],
             [
              1,
              "#f0f921"
             ]
            ],
            "type": "surface"
           }
          ],
          "table": [
           {
            "cells": {
             "fill": {
              "color": "#EBF0F8"
             },
             "line": {
              "color": "white"
             }
            },
            "header": {
             "fill": {
              "color": "#C8D4E3"
             },
             "line": {
              "color": "white"
             }
            },
            "type": "table"
           }
          ]
         },
         "layout": {
          "annotationdefaults": {
           "arrowcolor": "#2a3f5f",
           "arrowhead": 0,
           "arrowwidth": 1
          },
          "autotypenumbers": "strict",
          "coloraxis": {
           "colorbar": {
            "outlinewidth": 0,
            "ticks": ""
           }
          },
          "colorscale": {
           "diverging": [
            [
             0,
             "#8e0152"
            ],
            [
             0.1,
             "#c51b7d"
            ],
            [
             0.2,
             "#de77ae"
            ],
            [
             0.3,
             "#f1b6da"
            ],
            [
             0.4,
             "#fde0ef"
            ],
            [
             0.5,
             "#f7f7f7"
            ],
            [
             0.6,
             "#e6f5d0"
            ],
            [
             0.7,
             "#b8e186"
            ],
            [
             0.8,
             "#7fbc41"
            ],
            [
             0.9,
             "#4d9221"
            ],
            [
             1,
             "#276419"
            ]
           ],
           "sequential": [
            [
             0,
             "#0d0887"
            ],
            [
             0.1111111111111111,
             "#46039f"
            ],
            [
             0.2222222222222222,
             "#7201a8"
            ],
            [
             0.3333333333333333,
             "#9c179e"
            ],
            [
             0.4444444444444444,
             "#bd3786"
            ],
            [
             0.5555555555555556,
             "#d8576b"
            ],
            [
             0.6666666666666666,
             "#ed7953"
            ],
            [
             0.7777777777777778,
             "#fb9f3a"
            ],
            [
             0.8888888888888888,
             "#fdca26"
            ],
            [
             1,
             "#f0f921"
            ]
           ],
           "sequentialminus": [
            [
             0,
             "#0d0887"
            ],
            [
             0.1111111111111111,
             "#46039f"
            ],
            [
             0.2222222222222222,
             "#7201a8"
            ],
            [
             0.3333333333333333,
             "#9c179e"
            ],
            [
             0.4444444444444444,
             "#bd3786"
            ],
            [
             0.5555555555555556,
             "#d8576b"
            ],
            [
             0.6666666666666666,
             "#ed7953"
            ],
            [
             0.7777777777777778,
             "#fb9f3a"
            ],
            [
             0.8888888888888888,
             "#fdca26"
            ],
            [
             1,
             "#f0f921"
            ]
           ]
          },
          "colorway": [
           "#636efa",
           "#EF553B",
           "#00cc96",
           "#ab63fa",
           "#FFA15A",
           "#19d3f3",
           "#FF6692",
           "#B6E880",
           "#FF97FF",
           "#FECB52"
          ],
          "font": {
           "color": "#2a3f5f"
          },
          "geo": {
           "bgcolor": "white",
           "lakecolor": "white",
           "landcolor": "#E5ECF6",
           "showlakes": true,
           "showland": true,
           "subunitcolor": "white"
          },
          "hoverlabel": {
           "align": "left"
          },
          "hovermode": "closest",
          "mapbox": {
           "style": "light"
          },
          "paper_bgcolor": "white",
          "plot_bgcolor": "#E5ECF6",
          "polar": {
           "angularaxis": {
            "gridcolor": "white",
            "linecolor": "white",
            "ticks": ""
           },
           "bgcolor": "#E5ECF6",
           "radialaxis": {
            "gridcolor": "white",
            "linecolor": "white",
            "ticks": ""
           }
          },
          "scene": {
           "xaxis": {
            "backgroundcolor": "#E5ECF6",
            "gridcolor": "white",
            "gridwidth": 2,
            "linecolor": "white",
            "showbackground": true,
            "ticks": "",
            "zerolinecolor": "white"
           },
           "yaxis": {
            "backgroundcolor": "#E5ECF6",
            "gridcolor": "white",
            "gridwidth": 2,
            "linecolor": "white",
            "showbackground": true,
            "ticks": "",
            "zerolinecolor": "white"
           },
           "zaxis": {
            "backgroundcolor": "#E5ECF6",
            "gridcolor": "white",
            "gridwidth": 2,
            "linecolor": "white",
            "showbackground": true,
            "ticks": "",
            "zerolinecolor": "white"
           }
          },
          "shapedefaults": {
           "line": {
            "color": "#2a3f5f"
           }
          },
          "ternary": {
           "aaxis": {
            "gridcolor": "white",
            "linecolor": "white",
            "ticks": ""
           },
           "baxis": {
            "gridcolor": "white",
            "linecolor": "white",
            "ticks": ""
           },
           "bgcolor": "#E5ECF6",
           "caxis": {
            "gridcolor": "white",
            "linecolor": "white",
            "ticks": ""
           }
          },
          "title": {
           "x": 0.05
          },
          "xaxis": {
           "automargin": true,
           "gridcolor": "white",
           "linecolor": "white",
           "ticks": "",
           "title": {
            "standoff": 15
           },
           "zerolinecolor": "white",
           "zerolinewidth": 2
          },
          "yaxis": {
           "automargin": true,
           "gridcolor": "white",
           "linecolor": "white",
           "ticks": "",
           "title": {
            "standoff": 15
           },
           "zerolinecolor": "white",
           "zerolinewidth": 2
          }
         }
        },
        "title": {
         "text": "Timeline of teams where Alonso drove",
         "x": 0.5
        },
        "xaxis": {
         "anchor": "y",
         "domain": [
          0,
          1
         ],
         "dtick": "M12",
         "gridcolor": "lightgrey",
         "gridwidth": 1,
         "range": [
          "2000-12-01",
          "2026-02-01"
         ],
         "showgrid": true,
         "tickmode": "linear",
         "type": "date"
        },
        "yaxis": {
         "anchor": "x",
         "autorange": "reversed",
         "categoryarray": [
          "Aston Martin",
          "Alpine",
          "Ferrari",
          "McLaren",
          "Renault",
          "Minardi"
         ],
         "categoryorder": "array",
         "domain": [
          0,
          1
         ],
         "title": {
          "text": "Constructors"
         }
        }
       }
      }
     },
     "metadata": {},
     "output_type": "display_data"
    }
   ],
   "source": [
    "# Main Timeline plot -------------------------------------------------------------------------------------------\n",
    "alo_data = pd.read_csv('treated_data/alo_career_summary.csv')\n",
    "\n",
    "alo_data['start.season'] = pd.to_datetime(alo_data['start.season'].astype(str), format='%Y')\n",
    "alo_data['End.season'] = pd.to_datetime(alo_data['End.season'].astype(str), format='%Y')\n",
    "\n",
    "color_map = {\n",
    "    \"Minardi\": \"black\", \n",
    "    \"Renault\": \"#fcd205\", # renault yellow\n",
    "    \"McLaren\": \"#E56717\", # papaya orange\n",
    "    \"Ferrari\": \"#F70D1A\", # Ferrari red\n",
    "    \"Alpine\": \"#2673E2\", # Alpine blue\n",
    "    \"Aston Martin\": \"#004225\" # british racing green\n",
    "}\n",
    "\n",
    "text_color_map = {\n",
    "    \"Minardi\": \"gold\",\n",
    "    \"Renault\": \"grey\",\n",
    "    \"McLaren\": \"black\",\n",
    "    \"Ferrari\": \"yellow\",\n",
    "    \"Alpine\": \"white\",\n",
    "    \"Aston Martin\": \"white\"\n",
    "}\n",
    "\n",
    "# Assuming alo_data is already loaded and processed\n",
    "current_year = datetime.now().year\n",
    "\n",
    "# Create the Gantt chart with Plotly Express\n",
    "fig = px.timeline(\n",
    "    alo_data,\n",
    "    x_start=\"start.season\",\n",
    "    x_end=\"End.season\",\n",
    "    y=\"Constructors\",\n",
    "    color=\"Constructors\",\n",
    "    color_discrete_map=color_map\n",
    ")\n",
    "\n",
    "# Convert Plotly Express figure to Plotly Graph Objects figure for custom adjustments\n",
    "fig = go.Figure(fig)\n",
    "\n",
    "# Adjusting the opacity for each trace based on the 'End.season' year\n",
    "for trace in fig.data:\n",
    "    end_years = alo_data[alo_data['Constructors'] == trace.name]['End.season'].dt.year\n",
    "    opacities = [0.66 if year > 2024 else 1 for year in end_years]\n",
    "    trace.marker.opacity = opacities\n",
    "\n",
    "last_periods = alo_data.groupby('Constructors')['End.season'].max()\n",
    "\n",
    "# Customize text color to contrast with the bar color and add annotations\n",
    "for index, row in alo_data.iterrows():\n",
    "    if row['End.season'] == last_periods[row['Constructors']]:\n",
    "        # Calculate position for the annotation\n",
    "        text_position = row['End.season'] - ((row['End.season'] - row['start.season']) / 10)\n",
    "        fig.add_annotation(\n",
    "            x=text_position, y=row['Constructors'],\n",
    "            text=row['Constructors'],\n",
    "            showarrow=False,\n",
    "            font=dict(\n",
    "                color=text_color_map[row['Constructors']],\n",
    "                size=12,  # Adjust size as needed\n",
    "                family='Calibri',  # You can specify the font family\n",
    "                weight='bold'  # Making text bold\n",
    "            ),\n",
    "            xanchor='right',\n",
    "            align='right')\n",
    "\n",
    "# Reverse the y-axis\n",
    "fig.update_yaxes(autorange=\"reversed\")\n",
    "\n",
    "# Hide the legend as it's redundant now\n",
    "fig.update_layout(showlegend=False)\n",
    "\n",
    "# Adding red lines for specific years\n",
    "years_of_interest = [\"2005-01-01\", \"2006-01-02\"]\n",
    "for year in years_of_interest:\n",
    "    fig.add_shape(\n",
    "        type=\"line\",\n",
    "        x0=year, x1=year,\n",
    "        y0=-0.5, y1=len(alo_data['Constructors'].unique()) - 0.5,\n",
    "        line=dict(color=\"red\", width=1.5)\n",
    "    )\n",
    "\n",
    "# Adjust x-axis ticks to show every year and set an upper limit for the x-axis\n",
    "fig.update_xaxes(\n",
    "    tickmode='linear',\n",
    "    dtick=\"M12\",\n",
    "    range=[\"2000-12-01\", \"2026-02-01\"],\n",
    "    showgrid=True,\n",
    "    gridwidth=1,\n",
    "    gridcolor='lightgrey'\n",
    ")\n",
    "fig.update_layout(\n",
    "    title='Timeline of teams where Alonso drove',  # Adding a title\n",
    "    title_x=0.5,  # Center the title\n",
    "    paper_bgcolor='white',  # Set the background color around the plot\n",
    "    plot_bgcolor='white'  # Set the background color of the plot itself\n",
    ")\n",
    "fig.show()"
   ]
  },
  {
   "cell_type": "code",
   "execution_count": 6,
   "metadata": {},
   "outputs": [
    {
     "data": {
      "application/vnd.plotly.v1+json": {
       "config": {
        "plotlyServerURL": "https://plot.ly"
       },
       "data": [
        {
         "hovertemplate": "Driver=alonso<br>Race=%{x}<br>Cumulative Points=%{y}<extra></extra>",
         "legendgroup": "alonso",
         "line": {
          "color": "#FFFF00",
          "dash": "solid"
         },
         "marker": {
          "symbol": "circle"
         },
         "mode": "lines",
         "name": "alonso",
         "orientation": "v",
         "showlegend": true,
         "type": "scatter",
         "x": [
          "Australian Grand Prix 2005",
          "Bahrain Grand Prix 2005",
          "Belgian Grand Prix 2005",
          "Brazilian Grand Prix 2005",
          "British Grand Prix 2005",
          "Canadian Grand Prix 2005",
          "Chinese Grand Prix 2005",
          "European Grand Prix 2005",
          "French Grand Prix 2005",
          "German Grand Prix 2005",
          "Hungarian Grand Prix 2005",
          "Italian Grand Prix 2005",
          "Japanese Grand Prix 2005",
          "Malaysian Grand Prix 2005",
          "Monaco Grand Prix 2005",
          "San Marino Grand Prix 2005",
          "Spanish Grand Prix 2005",
          "Turkish Grand Prix 2005",
          "United States Grand Prix 2005"
         ],
         "xaxis": "x",
         "y": [
          6,
          16,
          24,
          30,
          38,
          38,
          48,
          58,
          68,
          78,
          78,
          86,
          92,
          102,
          107,
          117,
          125,
          133,
          133
         ],
         "yaxis": "y"
        },
        {
         "hovertemplate": "Driver=raikkonen<br>Race=%{x}<br>Cumulative Points=%{y}<extra></extra>",
         "legendgroup": "raikkonen",
         "line": {
          "color": "#FFA500",
          "dash": "solid"
         },
         "marker": {
          "symbol": "circle"
         },
         "mode": "lines",
         "name": "raikkonen",
         "orientation": "v",
         "showlegend": true,
         "type": "scatter",
         "x": [
          "Australian Grand Prix 2005",
          "Bahrain Grand Prix 2005",
          "Belgian Grand Prix 2005",
          "Brazilian Grand Prix 2005",
          "British Grand Prix 2005",
          "Canadian Grand Prix 2005",
          "Chinese Grand Prix 2005",
          "European Grand Prix 2005",
          "French Grand Prix 2005",
          "German Grand Prix 2005",
          "Hungarian Grand Prix 2005",
          "Italian Grand Prix 2005",
          "Japanese Grand Prix 2005",
          "Malaysian Grand Prix 2005",
          "Monaco Grand Prix 2005",
          "San Marino Grand Prix 2005",
          "Spanish Grand Prix 2005",
          "Turkish Grand Prix 2005",
          "United States Grand Prix 2005"
         ],
         "xaxis": "x",
         "y": [
          1,
          7,
          17,
          25,
          31,
          41,
          49,
          49,
          57,
          57,
          67,
          72,
          82,
          82,
          92,
          92,
          102,
          112,
          112
         ],
         "yaxis": "y"
        },
        {
         "hovertemplate": "Driver=michael_schumacher<br>Race=%{x}<br>Cumulative Points=%{y}<extra></extra>",
         "legendgroup": "michael_schumacher",
         "line": {
          "color": "#FF0000",
          "dash": "solid"
         },
         "marker": {
          "symbol": "circle"
         },
         "mode": "lines",
         "name": "michael_schumacher",
         "orientation": "v",
         "showlegend": true,
         "type": "scatter",
         "x": [
          "Australian Grand Prix 2005",
          "Bahrain Grand Prix 2005",
          "Belgian Grand Prix 2005",
          "Brazilian Grand Prix 2005",
          "British Grand Prix 2005",
          "Canadian Grand Prix 2005",
          "Chinese Grand Prix 2005",
          "European Grand Prix 2005",
          "French Grand Prix 2005",
          "German Grand Prix 2005",
          "Hungarian Grand Prix 2005",
          "Italian Grand Prix 2005",
          "Japanese Grand Prix 2005",
          "Malaysian Grand Prix 2005",
          "Monaco Grand Prix 2005",
          "San Marino Grand Prix 2005",
          "Spanish Grand Prix 2005",
          "Turkish Grand Prix 2005",
          "United States Grand Prix 2005"
         ],
         "xaxis": "x",
         "y": [
          0,
          0,
          0,
          5,
          8,
          16,
          16,
          20,
          26,
          30,
          38,
          38,
          40,
          42,
          44,
          52,
          52,
          52,
          62
         ],
         "yaxis": "y"
        },
        {
         "hovertemplate": "Driver=montoya<br>Race=%{x}<br>Cumulative Points=%{y}<extra></extra>",
         "legendgroup": "montoya",
         "line": {
          "color": "#FFA500",
          "dash": "dash"
         },
         "marker": {
          "symbol": "circle"
         },
         "mode": "lines",
         "name": "montoya",
         "orientation": "v",
         "showlegend": true,
         "type": "scatter",
         "x": [
          "Australian Grand Prix 2005",
          "Belgian Grand Prix 2005",
          "Brazilian Grand Prix 2005",
          "British Grand Prix 2005",
          "Canadian Grand Prix 2005",
          "Chinese Grand Prix 2005",
          "European Grand Prix 2005",
          "French Grand Prix 2005",
          "German Grand Prix 2005",
          "Hungarian Grand Prix 2005",
          "Italian Grand Prix 2005",
          "Japanese Grand Prix 2005",
          "Malaysian Grand Prix 2005",
          "Monaco Grand Prix 2005",
          "Spanish Grand Prix 2005",
          "Turkish Grand Prix 2005",
          "United States Grand Prix 2005"
         ],
         "xaxis": "x",
         "y": [
          3,
          3,
          13,
          23,
          23,
          23,
          25,
          25,
          33,
          33,
          43,
          43,
          48,
          52,
          54,
          60,
          60
         ],
         "yaxis": "y"
        },
        {
         "hovertemplate": "Driver=fisichella<br>Race=%{x}<br>Cumulative Points=%{y}<extra></extra>",
         "legendgroup": "fisichella",
         "line": {
          "color": "#FFFF00",
          "dash": "dash"
         },
         "marker": {
          "symbol": "circle"
         },
         "mode": "lines",
         "name": "fisichella",
         "orientation": "v",
         "showlegend": true,
         "type": "scatter",
         "x": [
          "Australian Grand Prix 2005",
          "Bahrain Grand Prix 2005",
          "Belgian Grand Prix 2005",
          "Brazilian Grand Prix 2005",
          "British Grand Prix 2005",
          "Canadian Grand Prix 2005",
          "Chinese Grand Prix 2005",
          "European Grand Prix 2005",
          "French Grand Prix 2005",
          "German Grand Prix 2005",
          "Hungarian Grand Prix 2005",
          "Italian Grand Prix 2005",
          "Japanese Grand Prix 2005",
          "Malaysian Grand Prix 2005",
          "Monaco Grand Prix 2005",
          "San Marino Grand Prix 2005",
          "Spanish Grand Prix 2005",
          "Turkish Grand Prix 2005",
          "United States Grand Prix 2005"
         ],
         "xaxis": "x",
         "y": [
          10,
          10,
          10,
          14,
          19,
          19,
          24,
          27,
          30,
          35,
          35,
          41,
          49,
          49,
          49,
          49,
          53,
          58,
          58
         ],
         "yaxis": "y"
        },
        {
         "hovertemplate": "Driver=ralf_schumacher<br>Race=%{x}<br>Cumulative Points=%{y}<extra></extra>",
         "legendgroup": "ralf_schumacher",
         "line": {
          "color": "#FFC0CB",
          "dash": "solid"
         },
         "marker": {
          "symbol": "circle"
         },
         "mode": "lines",
         "name": "ralf_schumacher",
         "orientation": "v",
         "showlegend": true,
         "type": "scatter",
         "x": [
          "Australian Grand Prix 2005",
          "Bahrain Grand Prix 2005",
          "Belgian Grand Prix 2005",
          "Brazilian Grand Prix 2005",
          "British Grand Prix 2005",
          "Canadian Grand Prix 2005",
          "Chinese Grand Prix 2005",
          "European Grand Prix 2005",
          "French Grand Prix 2005",
          "German Grand Prix 2005",
          "Hungarian Grand Prix 2005",
          "Italian Grand Prix 2005",
          "Japanese Grand Prix 2005",
          "Malaysian Grand Prix 2005",
          "Monaco Grand Prix 2005",
          "San Marino Grand Prix 2005",
          "Spanish Grand Prix 2005",
          "Turkish Grand Prix 2005"
         ],
         "xaxis": "x",
         "y": [
          0,
          5,
          7,
          8,
          9,
          12,
          18,
          18,
          20,
          23,
          29,
          32,
          33,
          37,
          40,
          40,
          45,
          45
         ],
         "yaxis": "y"
        },
        {
         "hovertemplate": "Driver=trulli<br>Race=%{x}<br>Cumulative Points=%{y}<extra></extra>",
         "legendgroup": "trulli",
         "line": {
          "color": "#FFC0CB",
          "dash": "dash"
         },
         "marker": {
          "symbol": "circle"
         },
         "mode": "lines",
         "name": "trulli",
         "orientation": "v",
         "showlegend": true,
         "type": "scatter",
         "x": [
          "Australian Grand Prix 2005",
          "Bahrain Grand Prix 2005",
          "Belgian Grand Prix 2005",
          "Brazilian Grand Prix 2005",
          "British Grand Prix 2005",
          "Canadian Grand Prix 2005",
          "Chinese Grand Prix 2005",
          "European Grand Prix 2005",
          "French Grand Prix 2005",
          "German Grand Prix 2005",
          "Hungarian Grand Prix 2005",
          "Italian Grand Prix 2005",
          "Japanese Grand Prix 2005",
          "Malaysian Grand Prix 2005",
          "Monaco Grand Prix 2005",
          "San Marino Grand Prix 2005",
          "Spanish Grand Prix 2005",
          "Turkish Grand Prix 2005",
          "United States Grand Prix 2005"
         ],
         "xaxis": "x",
         "y": [
          0,
          8,
          8,
          8,
          8,
          8,
          8,
          9,
          13,
          13,
          18,
          22,
          22,
          30,
          30,
          34,
          40,
          43,
          43
         ],
         "yaxis": "y"
        },
        {
         "hovertemplate": "Driver=barrichello<br>Race=%{x}<br>Cumulative Points=%{y}<extra></extra>",
         "legendgroup": "barrichello",
         "line": {
          "color": "#FF0000",
          "dash": "dash"
         },
         "marker": {
          "symbol": "circle"
         },
         "mode": "lines",
         "name": "barrichello",
         "orientation": "v",
         "showlegend": true,
         "type": "scatter",
         "x": [
          "Australian Grand Prix 2005",
          "Bahrain Grand Prix 2005",
          "Belgian Grand Prix 2005",
          "Brazilian Grand Prix 2005",
          "British Grand Prix 2005",
          "Canadian Grand Prix 2005",
          "Chinese Grand Prix 2005",
          "European Grand Prix 2005",
          "French Grand Prix 2005",
          "German Grand Prix 2005",
          "Hungarian Grand Prix 2005",
          "Italian Grand Prix 2005",
          "Japanese Grand Prix 2005",
          "Malaysian Grand Prix 2005",
          "Monaco Grand Prix 2005",
          "San Marino Grand Prix 2005",
          "Spanish Grand Prix 2005",
          "Turkish Grand Prix 2005",
          "United States Grand Prix 2005"
         ],
         "xaxis": "x",
         "y": [
          8,
          8,
          12,
          15,
          17,
          23,
          23,
          29,
          29,
          29,
          29,
          29,
          29,
          29,
          30,
          30,
          30,
          30,
          38
         ],
         "yaxis": "y"
        },
        {
         "hovertemplate": "Driver=button<br>Race=%{x}<br>Cumulative Points=%{y}<extra></extra>",
         "legendgroup": "button",
         "line": {
          "color": "#D3D3D3",
          "dash": "solid"
         },
         "marker": {
          "symbol": "circle"
         },
         "mode": "lines",
         "name": "button",
         "orientation": "v",
         "showlegend": true,
         "type": "scatter",
         "x": [
          "Australian Grand Prix 2005",
          "Bahrain Grand Prix 2005",
          "Belgian Grand Prix 2005",
          "Brazilian Grand Prix 2005",
          "British Grand Prix 2005",
          "Canadian Grand Prix 2005",
          "Chinese Grand Prix 2005",
          "European Grand Prix 2005",
          "French Grand Prix 2005",
          "German Grand Prix 2005",
          "Hungarian Grand Prix 2005",
          "Italian Grand Prix 2005",
          "Japanese Grand Prix 2005",
          "Malaysian Grand Prix 2005",
          "San Marino Grand Prix 2005",
          "Turkish Grand Prix 2005",
          "United States Grand Prix 2005"
         ],
         "xaxis": "x",
         "y": [
          0,
          0,
          6,
          8,
          12,
          12,
          13,
          13,
          18,
          24,
          28,
          29,
          33,
          33,
          33,
          37,
          37
         ],
         "yaxis": "y"
        },
        {
         "hovertemplate": "Driver=webber<br>Race=%{x}<br>Cumulative Points=%{y}<extra></extra>",
         "legendgroup": "webber",
         "line": {
          "color": "#ADD8E6",
          "dash": "solid"
         },
         "marker": {
          "symbol": "circle"
         },
         "mode": "lines",
         "name": "webber",
         "orientation": "v",
         "showlegend": true,
         "type": "scatter",
         "x": [
          "Australian Grand Prix 2005",
          "Bahrain Grand Prix 2005",
          "Belgian Grand Prix 2005",
          "Brazilian Grand Prix 2005",
          "British Grand Prix 2005",
          "Canadian Grand Prix 2005",
          "Chinese Grand Prix 2005",
          "European Grand Prix 2005",
          "French Grand Prix 2005",
          "German Grand Prix 2005",
          "Hungarian Grand Prix 2005",
          "Italian Grand Prix 2005",
          "Japanese Grand Prix 2005",
          "Malaysian Grand Prix 2005",
          "Monaco Grand Prix 2005",
          "San Marino Grand Prix 2005",
          "Spanish Grand Prix 2005",
          "Turkish Grand Prix 2005",
          "United States Grand Prix 2005"
         ],
         "xaxis": "x",
         "y": [
          4,
          7,
          12,
          12,
          12,
          16,
          18,
          18,
          18,
          18,
          20,
          20,
          25,
          25,
          31,
          33,
          36,
          36,
          36
         ],
         "yaxis": "y"
        },
        {
         "hovertemplate": "Driver=heidfeld<br>Race=%{x}<br>Cumulative Points=%{y}<extra></extra>",
         "legendgroup": "heidfeld",
         "line": {
          "color": "#ADD8E6",
          "dash": "dash"
         },
         "marker": {
          "symbol": "circle"
         },
         "mode": "lines",
         "name": "heidfeld",
         "orientation": "v",
         "showlegend": true,
         "type": "scatter",
         "x": [
          "Australian Grand Prix 2005",
          "Bahrain Grand Prix 2005",
          "British Grand Prix 2005",
          "Canadian Grand Prix 2005",
          "European Grand Prix 2005",
          "French Grand Prix 2005",
          "German Grand Prix 2005",
          "Hungarian Grand Prix 2005",
          "Malaysian Grand Prix 2005",
          "Monaco Grand Prix 2005",
          "San Marino Grand Prix 2005",
          "Spanish Grand Prix 2005",
          "Turkish Grand Prix 2005",
          "United States Grand Prix 2005"
         ],
         "xaxis": "x",
         "y": [
          0,
          0,
          0,
          0,
          8,
          8,
          8,
          11,
          17,
          25,
          28,
          28,
          28,
          28
         ],
         "yaxis": "y"
        },
        {
         "hovertemplate": "Driver=coulthard<br>Race=%{x}<br>Cumulative Points=%{y}<extra></extra>",
         "legendgroup": "coulthard",
         "line": {
          "color": "#00008B",
          "dash": "solid"
         },
         "marker": {
          "symbol": "circle"
         },
         "mode": "lines",
         "name": "coulthard",
         "orientation": "v",
         "showlegend": true,
         "type": "scatter",
         "x": [
          "Australian Grand Prix 2005",
          "Bahrain Grand Prix 2005",
          "Belgian Grand Prix 2005",
          "Brazilian Grand Prix 2005",
          "British Grand Prix 2005",
          "Canadian Grand Prix 2005",
          "Chinese Grand Prix 2005",
          "European Grand Prix 2005",
          "French Grand Prix 2005",
          "German Grand Prix 2005",
          "Hungarian Grand Prix 2005",
          "Italian Grand Prix 2005",
          "Japanese Grand Prix 2005",
          "Malaysian Grand Prix 2005",
          "Monaco Grand Prix 2005",
          "San Marino Grand Prix 2005",
          "Spanish Grand Prix 2005",
          "Turkish Grand Prix 2005",
          "United States Grand Prix 2005"
         ],
         "xaxis": "x",
         "y": [
          5,
          6,
          6,
          6,
          6,
          8,
          8,
          13,
          13,
          15,
          15,
          15,
          18,
          21,
          21,
          21,
          22,
          24,
          24
         ],
         "yaxis": "y"
        },
        {
         "hovertemplate": "Driver=massa<br>Race=%{x}<br>Cumulative Points=%{y}<extra></extra>",
         "legendgroup": "massa",
         "line": {
          "color": "#0000FF",
          "dash": "dash"
         },
         "marker": {
          "symbol": "circle"
         },
         "mode": "lines",
         "name": "massa",
         "orientation": "v",
         "showlegend": true,
         "type": "scatter",
         "x": [
          "Australian Grand Prix 2005",
          "Bahrain Grand Prix 2005",
          "Belgian Grand Prix 2005",
          "Brazilian Grand Prix 2005",
          "British Grand Prix 2005",
          "Canadian Grand Prix 2005",
          "Chinese Grand Prix 2005",
          "European Grand Prix 2005",
          "French Grand Prix 2005",
          "German Grand Prix 2005",
          "Hungarian Grand Prix 2005",
          "Italian Grand Prix 2005",
          "Japanese Grand Prix 2005",
          "Malaysian Grand Prix 2005",
          "Monaco Grand Prix 2005",
          "San Marino Grand Prix 2005",
          "Spanish Grand Prix 2005",
          "Turkish Grand Prix 2005",
          "United States Grand Prix 2005"
         ],
         "xaxis": "x",
         "y": [
          0,
          2,
          2,
          2,
          2,
          7,
          10,
          10,
          10,
          11,
          11,
          11,
          11,
          11,
          11,
          11,
          11,
          11,
          11
         ],
         "yaxis": "y"
        },
        {
         "hovertemplate": "Driver=villeneuve<br>Race=%{x}<br>Cumulative Points=%{y}<extra></extra>",
         "legendgroup": "villeneuve",
         "line": {
          "color": "#0000FF",
          "dash": "solid"
         },
         "marker": {
          "symbol": "circle"
         },
         "mode": "lines",
         "name": "villeneuve",
         "orientation": "v",
         "showlegend": true,
         "type": "scatter",
         "x": [
          "Australian Grand Prix 2005",
          "Bahrain Grand Prix 2005",
          "Belgian Grand Prix 2005",
          "Brazilian Grand Prix 2005",
          "British Grand Prix 2005",
          "Canadian Grand Prix 2005",
          "Chinese Grand Prix 2005",
          "European Grand Prix 2005",
          "French Grand Prix 2005",
          "German Grand Prix 2005",
          "Hungarian Grand Prix 2005",
          "Italian Grand Prix 2005",
          "Japanese Grand Prix 2005",
          "Malaysian Grand Prix 2005",
          "Monaco Grand Prix 2005",
          "San Marino Grand Prix 2005",
          "Spanish Grand Prix 2005",
          "Turkish Grand Prix 2005",
          "United States Grand Prix 2005"
         ],
         "xaxis": "x",
         "y": [
          0,
          0,
          3,
          3,
          3,
          3,
          3,
          3,
          4,
          4,
          4,
          4,
          4,
          4,
          4,
          9,
          9,
          9,
          9
         ],
         "yaxis": "y"
        },
        {
         "hovertemplate": "Driver=klien<br>Race=%{x}<br>Cumulative Points=%{y}<extra></extra>",
         "legendgroup": "klien",
         "line": {
          "color": "#00008B",
          "dash": "dash"
         },
         "marker": {
          "symbol": "circle"
         },
         "mode": "lines",
         "name": "klien",
         "orientation": "v",
         "showlegend": true,
         "type": "scatter",
         "x": [
          "Australian Grand Prix 2005",
          "Bahrain Grand Prix 2005",
          "Belgian Grand Prix 2005",
          "Brazilian Grand Prix 2005",
          "British Grand Prix 2005",
          "Canadian Grand Prix 2005",
          "Chinese Grand Prix 2005",
          "French Grand Prix 2005",
          "German Grand Prix 2005",
          "Hungarian Grand Prix 2005",
          "Italian Grand Prix 2005",
          "Japanese Grand Prix 2005",
          "Malaysian Grand Prix 2005",
          "Turkish Grand Prix 2005",
          "United States Grand Prix 2005"
         ],
         "xaxis": "x",
         "y": [
          2,
          2,
          2,
          2,
          2,
          3,
          7,
          7,
          7,
          7,
          7,
          7,
          8,
          9,
          9
         ],
         "yaxis": "y"
        },
        {
         "hovertemplate": "Driver=monteiro<br>Race=%{x}<br>Cumulative Points=%{y}<extra></extra>",
         "legendgroup": "monteiro",
         "line": {
          "color": "#9ACD32",
          "dash": "solid"
         },
         "marker": {
          "symbol": "circle"
         },
         "mode": "lines",
         "name": "monteiro",
         "orientation": "v",
         "showlegend": true,
         "type": "scatter",
         "x": [
          "Australian Grand Prix 2005",
          "Bahrain Grand Prix 2005",
          "Belgian Grand Prix 2005",
          "Brazilian Grand Prix 2005",
          "British Grand Prix 2005",
          "Canadian Grand Prix 2005",
          "Chinese Grand Prix 2005",
          "European Grand Prix 2005",
          "French Grand Prix 2005",
          "German Grand Prix 2005",
          "Hungarian Grand Prix 2005",
          "Italian Grand Prix 2005",
          "Japanese Grand Prix 2005",
          "Malaysian Grand Prix 2005",
          "Monaco Grand Prix 2005",
          "San Marino Grand Prix 2005",
          "Spanish Grand Prix 2005",
          "Turkish Grand Prix 2005",
          "United States Grand Prix 2005"
         ],
         "xaxis": "x",
         "y": [
          0,
          0,
          1,
          1,
          1,
          1,
          1,
          1,
          1,
          1,
          1,
          1,
          1,
          1,
          1,
          1,
          1,
          1,
          7
         ],
         "yaxis": "y"
        },
        {
         "hovertemplate": "Driver=wurz<br>Race=%{x}<br>Cumulative Points=%{y}<extra></extra>",
         "legendgroup": "wurz",
         "line": {
          "color": "#3b3b3b",
          "dash": "solid"
         },
         "marker": {
          "symbol": "circle"
         },
         "mode": "lines",
         "name": "wurz",
         "orientation": "v",
         "showlegend": true,
         "type": "scatter",
         "x": [
          "San Marino Grand Prix 2005"
         ],
         "xaxis": "x",
         "y": [
          6
         ],
         "yaxis": "y"
        },
        {
         "hovertemplate": "Driver=karthikeyan<br>Race=%{x}<br>Cumulative Points=%{y}<extra></extra>",
         "legendgroup": "karthikeyan",
         "line": {
          "color": "#9ACD32",
          "dash": "dash"
         },
         "marker": {
          "symbol": "circle"
         },
         "mode": "lines",
         "name": "karthikeyan",
         "orientation": "v",
         "showlegend": true,
         "type": "scatter",
         "x": [
          "Australian Grand Prix 2005",
          "Bahrain Grand Prix 2005",
          "Belgian Grand Prix 2005",
          "Brazilian Grand Prix 2005",
          "British Grand Prix 2005",
          "Canadian Grand Prix 2005",
          "Chinese Grand Prix 2005",
          "European Grand Prix 2005",
          "French Grand Prix 2005",
          "German Grand Prix 2005",
          "Hungarian Grand Prix 2005",
          "Italian Grand Prix 2005",
          "Japanese Grand Prix 2005",
          "Malaysian Grand Prix 2005",
          "Monaco Grand Prix 2005",
          "San Marino Grand Prix 2005",
          "Spanish Grand Prix 2005",
          "Turkish Grand Prix 2005",
          "United States Grand Prix 2005"
         ],
         "xaxis": "x",
         "y": [
          0,
          0,
          0,
          0,
          0,
          0,
          0,
          0,
          0,
          0,
          0,
          0,
          0,
          0,
          0,
          0,
          0,
          0,
          5
         ],
         "yaxis": "y"
        },
        {
         "hovertemplate": "Driver=albers<br>Race=%{x}<br>Cumulative Points=%{y}<extra></extra>",
         "legendgroup": "albers",
         "line": {
          "color": "#000000",
          "dash": "solid"
         },
         "marker": {
          "symbol": "circle"
         },
         "mode": "lines",
         "name": "albers",
         "orientation": "v",
         "showlegend": true,
         "type": "scatter",
         "x": [
          "Australian Grand Prix 2005",
          "Bahrain Grand Prix 2005",
          "Belgian Grand Prix 2005",
          "Brazilian Grand Prix 2005",
          "British Grand Prix 2005",
          "Canadian Grand Prix 2005",
          "Chinese Grand Prix 2005",
          "European Grand Prix 2005",
          "French Grand Prix 2005",
          "German Grand Prix 2005",
          "Hungarian Grand Prix 2005",
          "Italian Grand Prix 2005",
          "Japanese Grand Prix 2005",
          "Malaysian Grand Prix 2005",
          "Monaco Grand Prix 2005",
          "San Marino Grand Prix 2005",
          "Spanish Grand Prix 2005",
          "Turkish Grand Prix 2005",
          "United States Grand Prix 2005"
         ],
         "xaxis": "x",
         "y": [
          0,
          0,
          0,
          0,
          0,
          0,
          0,
          0,
          0,
          0,
          0,
          0,
          0,
          0,
          0,
          0,
          0,
          0,
          4
         ],
         "yaxis": "y"
        },
        {
         "hovertemplate": "Driver=rosa<br>Race=%{x}<br>Cumulative Points=%{y}<extra></extra>",
         "legendgroup": "rosa",
         "line": {
          "color": "#3b3b3b",
          "dash": "solid"
         },
         "marker": {
          "symbol": "circle"
         },
         "mode": "lines",
         "name": "rosa",
         "orientation": "v",
         "showlegend": true,
         "type": "scatter",
         "x": [
          "Bahrain Grand Prix 2005"
         ],
         "xaxis": "x",
         "y": [
          4
         ],
         "yaxis": "y"
        },
        {
         "hovertemplate": "Driver=friesacher<br>Race=%{x}<br>Cumulative Points=%{y}<extra></extra>",
         "legendgroup": "friesacher",
         "line": {
          "color": "#000000",
          "dash": "dash"
         },
         "marker": {
          "symbol": "circle"
         },
         "mode": "lines",
         "name": "friesacher",
         "orientation": "v",
         "showlegend": true,
         "type": "scatter",
         "x": [
          "Australian Grand Prix 2005",
          "Bahrain Grand Prix 2005",
          "British Grand Prix 2005",
          "Canadian Grand Prix 2005",
          "European Grand Prix 2005",
          "French Grand Prix 2005",
          "Malaysian Grand Prix 2005",
          "Monaco Grand Prix 2005",
          "San Marino Grand Prix 2005",
          "Spanish Grand Prix 2005",
          "United States Grand Prix 2005"
         ],
         "xaxis": "x",
         "y": [
          0,
          0,
          0,
          0,
          0,
          0,
          0,
          0,
          0,
          0,
          3
         ],
         "yaxis": "y"
        },
        {
         "hovertemplate": "Driver=pizzonia<br>Race=%{x}<br>Cumulative Points=%{y}<extra></extra>",
         "legendgroup": "pizzonia",
         "line": {
          "color": "#3b3b3b",
          "dash": "solid"
         },
         "marker": {
          "symbol": "circle"
         },
         "mode": "lines",
         "name": "pizzonia",
         "orientation": "v",
         "showlegend": true,
         "type": "scatter",
         "x": [
          "Belgian Grand Prix 2005",
          "Brazilian Grand Prix 2005",
          "Chinese Grand Prix 2005",
          "Italian Grand Prix 2005",
          "Japanese Grand Prix 2005"
         ],
         "xaxis": "x",
         "y": [
          0,
          0,
          0,
          2,
          2
         ],
         "yaxis": "y"
        },
        {
         "hovertemplate": "Driver=sato<br>Race=%{x}<br>Cumulative Points=%{y}<extra></extra>",
         "legendgroup": "sato",
         "line": {
          "color": "#D3D3D3",
          "dash": "dash"
         },
         "marker": {
          "symbol": "circle"
         },
         "mode": "lines",
         "name": "sato",
         "orientation": "v",
         "showlegend": true,
         "type": "scatter",
         "x": [
          "Australian Grand Prix 2005",
          "Bahrain Grand Prix 2005",
          "Belgian Grand Prix 2005",
          "Brazilian Grand Prix 2005",
          "British Grand Prix 2005",
          "Canadian Grand Prix 2005",
          "Chinese Grand Prix 2005",
          "European Grand Prix 2005",
          "French Grand Prix 2005",
          "German Grand Prix 2005",
          "Hungarian Grand Prix 2005",
          "Italian Grand Prix 2005",
          "Japanese Grand Prix 2005",
          "San Marino Grand Prix 2005",
          "Turkish Grand Prix 2005",
          "United States Grand Prix 2005"
         ],
         "xaxis": "x",
         "y": [
          0,
          0,
          0,
          0,
          0,
          0,
          0,
          0,
          0,
          0,
          1,
          1,
          1,
          1,
          1,
          1
         ],
         "yaxis": "y"
        },
        {
         "hovertemplate": "Driver=liuzzi<br>Race=%{x}<br>Cumulative Points=%{y}<extra></extra>",
         "legendgroup": "liuzzi",
         "line": {
          "color": "#3b3b3b",
          "dash": "solid"
         },
         "marker": {
          "symbol": "circle"
         },
         "mode": "lines",
         "name": "liuzzi",
         "orientation": "v",
         "showlegend": true,
         "type": "scatter",
         "x": [
          "European Grand Prix 2005",
          "Monaco Grand Prix 2005",
          "San Marino Grand Prix 2005",
          "Spanish Grand Prix 2005"
         ],
         "xaxis": "x",
         "y": [
          0,
          0,
          1,
          1
         ],
         "yaxis": "y"
        },
        {
         "hovertemplate": "Driver=doornbos<br>Race=%{x}<br>Cumulative Points=%{y}<extra></extra>",
         "legendgroup": "doornbos",
         "line": {
          "color": "#3b3b3b",
          "dash": "solid"
         },
         "marker": {
          "symbol": "circle"
         },
         "mode": "lines",
         "name": "doornbos",
         "orientation": "v",
         "showlegend": true,
         "type": "scatter",
         "x": [
          "Belgian Grand Prix 2005",
          "Brazilian Grand Prix 2005",
          "Chinese Grand Prix 2005",
          "German Grand Prix 2005",
          "Hungarian Grand Prix 2005",
          "Italian Grand Prix 2005",
          "Japanese Grand Prix 2005",
          "Turkish Grand Prix 2005"
         ],
         "xaxis": "x",
         "y": [
          0,
          0,
          0,
          0,
          0,
          0,
          0,
          0
         ],
         "yaxis": "y"
        },
        {
         "hovertemplate": "Driver=davidson<br>Race=%{x}<br>Cumulative Points=%{y}<extra></extra>",
         "legendgroup": "davidson",
         "line": {
          "color": "#3b3b3b",
          "dash": "solid"
         },
         "marker": {
          "symbol": "circle"
         },
         "mode": "lines",
         "name": "davidson",
         "orientation": "v",
         "showlegend": true,
         "type": "scatter",
         "x": [
          "Malaysian Grand Prix 2005"
         ],
         "xaxis": "x",
         "y": [
          0
         ],
         "yaxis": "y"
        },
        {
         "hovertemplate": "Driver=zonta<br>Race=%{x}<br>Cumulative Points=%{y}<extra></extra>",
         "legendgroup": "zonta",
         "line": {
          "color": "#3b3b3b",
          "dash": "solid"
         },
         "marker": {
          "symbol": "circle"
         },
         "mode": "lines",
         "name": "zonta",
         "orientation": "v",
         "showlegend": true,
         "type": "scatter",
         "x": [
          "United States Grand Prix 2005"
         ],
         "xaxis": "x",
         "y": [
          0
         ],
         "yaxis": "y"
        }
       ],
       "layout": {
        "legend": {
         "title": {
          "text": "Driver"
         },
         "tracegroupgap": 0
        },
        "margin": {
         "t": 60
        },
        "paper_bgcolor": "white",
        "plot_bgcolor": "white",
        "template": {
         "data": {
          "bar": [
           {
            "error_x": {
             "color": "#2a3f5f"
            },
            "error_y": {
             "color": "#2a3f5f"
            },
            "marker": {
             "line": {
              "color": "#E5ECF6",
              "width": 0.5
             },
             "pattern": {
              "fillmode": "overlay",
              "size": 10,
              "solidity": 0.2
             }
            },
            "type": "bar"
           }
          ],
          "barpolar": [
           {
            "marker": {
             "line": {
              "color": "#E5ECF6",
              "width": 0.5
             },
             "pattern": {
              "fillmode": "overlay",
              "size": 10,
              "solidity": 0.2
             }
            },
            "type": "barpolar"
           }
          ],
          "carpet": [
           {
            "aaxis": {
             "endlinecolor": "#2a3f5f",
             "gridcolor": "white",
             "linecolor": "white",
             "minorgridcolor": "white",
             "startlinecolor": "#2a3f5f"
            },
            "baxis": {
             "endlinecolor": "#2a3f5f",
             "gridcolor": "white",
             "linecolor": "white",
             "minorgridcolor": "white",
             "startlinecolor": "#2a3f5f"
            },
            "type": "carpet"
           }
          ],
          "choropleth": [
           {
            "colorbar": {
             "outlinewidth": 0,
             "ticks": ""
            },
            "type": "choropleth"
           }
          ],
          "contour": [
           {
            "colorbar": {
             "outlinewidth": 0,
             "ticks": ""
            },
            "colorscale": [
             [
              0,
              "#0d0887"
             ],
             [
              0.1111111111111111,
              "#46039f"
             ],
             [
              0.2222222222222222,
              "#7201a8"
             ],
             [
              0.3333333333333333,
              "#9c179e"
             ],
             [
              0.4444444444444444,
              "#bd3786"
             ],
             [
              0.5555555555555556,
              "#d8576b"
             ],
             [
              0.6666666666666666,
              "#ed7953"
             ],
             [
              0.7777777777777778,
              "#fb9f3a"
             ],
             [
              0.8888888888888888,
              "#fdca26"
             ],
             [
              1,
              "#f0f921"
             ]
            ],
            "type": "contour"
           }
          ],
          "contourcarpet": [
           {
            "colorbar": {
             "outlinewidth": 0,
             "ticks": ""
            },
            "type": "contourcarpet"
           }
          ],
          "heatmap": [
           {
            "colorbar": {
             "outlinewidth": 0,
             "ticks": ""
            },
            "colorscale": [
             [
              0,
              "#0d0887"
             ],
             [
              0.1111111111111111,
              "#46039f"
             ],
             [
              0.2222222222222222,
              "#7201a8"
             ],
             [
              0.3333333333333333,
              "#9c179e"
             ],
             [
              0.4444444444444444,
              "#bd3786"
             ],
             [
              0.5555555555555556,
              "#d8576b"
             ],
             [
              0.6666666666666666,
              "#ed7953"
             ],
             [
              0.7777777777777778,
              "#fb9f3a"
             ],
             [
              0.8888888888888888,
              "#fdca26"
             ],
             [
              1,
              "#f0f921"
             ]
            ],
            "type": "heatmap"
           }
          ],
          "heatmapgl": [
           {
            "colorbar": {
             "outlinewidth": 0,
             "ticks": ""
            },
            "colorscale": [
             [
              0,
              "#0d0887"
             ],
             [
              0.1111111111111111,
              "#46039f"
             ],
             [
              0.2222222222222222,
              "#7201a8"
             ],
             [
              0.3333333333333333,
              "#9c179e"
             ],
             [
              0.4444444444444444,
              "#bd3786"
             ],
             [
              0.5555555555555556,
              "#d8576b"
             ],
             [
              0.6666666666666666,
              "#ed7953"
             ],
             [
              0.7777777777777778,
              "#fb9f3a"
             ],
             [
              0.8888888888888888,
              "#fdca26"
             ],
             [
              1,
              "#f0f921"
             ]
            ],
            "type": "heatmapgl"
           }
          ],
          "histogram": [
           {
            "marker": {
             "pattern": {
              "fillmode": "overlay",
              "size": 10,
              "solidity": 0.2
             }
            },
            "type": "histogram"
           }
          ],
          "histogram2d": [
           {
            "colorbar": {
             "outlinewidth": 0,
             "ticks": ""
            },
            "colorscale": [
             [
              0,
              "#0d0887"
             ],
             [
              0.1111111111111111,
              "#46039f"
             ],
             [
              0.2222222222222222,
              "#7201a8"
             ],
             [
              0.3333333333333333,
              "#9c179e"
             ],
             [
              0.4444444444444444,
              "#bd3786"
             ],
             [
              0.5555555555555556,
              "#d8576b"
             ],
             [
              0.6666666666666666,
              "#ed7953"
             ],
             [
              0.7777777777777778,
              "#fb9f3a"
             ],
             [
              0.8888888888888888,
              "#fdca26"
             ],
             [
              1,
              "#f0f921"
             ]
            ],
            "type": "histogram2d"
           }
          ],
          "histogram2dcontour": [
           {
            "colorbar": {
             "outlinewidth": 0,
             "ticks": ""
            },
            "colorscale": [
             [
              0,
              "#0d0887"
             ],
             [
              0.1111111111111111,
              "#46039f"
             ],
             [
              0.2222222222222222,
              "#7201a8"
             ],
             [
              0.3333333333333333,
              "#9c179e"
             ],
             [
              0.4444444444444444,
              "#bd3786"
             ],
             [
              0.5555555555555556,
              "#d8576b"
             ],
             [
              0.6666666666666666,
              "#ed7953"
             ],
             [
              0.7777777777777778,
              "#fb9f3a"
             ],
             [
              0.8888888888888888,
              "#fdca26"
             ],
             [
              1,
              "#f0f921"
             ]
            ],
            "type": "histogram2dcontour"
           }
          ],
          "mesh3d": [
           {
            "colorbar": {
             "outlinewidth": 0,
             "ticks": ""
            },
            "type": "mesh3d"
           }
          ],
          "parcoords": [
           {
            "line": {
             "colorbar": {
              "outlinewidth": 0,
              "ticks": ""
             }
            },
            "type": "parcoords"
           }
          ],
          "pie": [
           {
            "automargin": true,
            "type": "pie"
           }
          ],
          "scatter": [
           {
            "fillpattern": {
             "fillmode": "overlay",
             "size": 10,
             "solidity": 0.2
            },
            "type": "scatter"
           }
          ],
          "scatter3d": [
           {
            "line": {
             "colorbar": {
              "outlinewidth": 0,
              "ticks": ""
             }
            },
            "marker": {
             "colorbar": {
              "outlinewidth": 0,
              "ticks": ""
             }
            },
            "type": "scatter3d"
           }
          ],
          "scattercarpet": [
           {
            "marker": {
             "colorbar": {
              "outlinewidth": 0,
              "ticks": ""
             }
            },
            "type": "scattercarpet"
           }
          ],
          "scattergeo": [
           {
            "marker": {
             "colorbar": {
              "outlinewidth": 0,
              "ticks": ""
             }
            },
            "type": "scattergeo"
           }
          ],
          "scattergl": [
           {
            "marker": {
             "colorbar": {
              "outlinewidth": 0,
              "ticks": ""
             }
            },
            "type": "scattergl"
           }
          ],
          "scattermapbox": [
           {
            "marker": {
             "colorbar": {
              "outlinewidth": 0,
              "ticks": ""
             }
            },
            "type": "scattermapbox"
           }
          ],
          "scatterpolar": [
           {
            "marker": {
             "colorbar": {
              "outlinewidth": 0,
              "ticks": ""
             }
            },
            "type": "scatterpolar"
           }
          ],
          "scatterpolargl": [
           {
            "marker": {
             "colorbar": {
              "outlinewidth": 0,
              "ticks": ""
             }
            },
            "type": "scatterpolargl"
           }
          ],
          "scatterternary": [
           {
            "marker": {
             "colorbar": {
              "outlinewidth": 0,
              "ticks": ""
             }
            },
            "type": "scatterternary"
           }
          ],
          "surface": [
           {
            "colorbar": {
             "outlinewidth": 0,
             "ticks": ""
            },
            "colorscale": [
             [
              0,
              "#0d0887"
             ],
             [
              0.1111111111111111,
              "#46039f"
             ],
             [
              0.2222222222222222,
              "#7201a8"
             ],
             [
              0.3333333333333333,
              "#9c179e"
             ],
             [
              0.4444444444444444,
              "#bd3786"
             ],
             [
              0.5555555555555556,
              "#d8576b"
             ],
             [
              0.6666666666666666,
              "#ed7953"
             ],
             [
              0.7777777777777778,
              "#fb9f3a"
             ],
             [
              0.8888888888888888,
              "#fdca26"
             ],
             [
              1,
              "#f0f921"
             ]
            ],
            "type": "surface"
           }
          ],
          "table": [
           {
            "cells": {
             "fill": {
              "color": "#EBF0F8"
             },
             "line": {
              "color": "white"
             }
            },
            "header": {
             "fill": {
              "color": "#C8D4E3"
             },
             "line": {
              "color": "white"
             }
            },
            "type": "table"
           }
          ]
         },
         "layout": {
          "annotationdefaults": {
           "arrowcolor": "#2a3f5f",
           "arrowhead": 0,
           "arrowwidth": 1
          },
          "autotypenumbers": "strict",
          "coloraxis": {
           "colorbar": {
            "outlinewidth": 0,
            "ticks": ""
           }
          },
          "colorscale": {
           "diverging": [
            [
             0,
             "#8e0152"
            ],
            [
             0.1,
             "#c51b7d"
            ],
            [
             0.2,
             "#de77ae"
            ],
            [
             0.3,
             "#f1b6da"
            ],
            [
             0.4,
             "#fde0ef"
            ],
            [
             0.5,
             "#f7f7f7"
            ],
            [
             0.6,
             "#e6f5d0"
            ],
            [
             0.7,
             "#b8e186"
            ],
            [
             0.8,
             "#7fbc41"
            ],
            [
             0.9,
             "#4d9221"
            ],
            [
             1,
             "#276419"
            ]
           ],
           "sequential": [
            [
             0,
             "#0d0887"
            ],
            [
             0.1111111111111111,
             "#46039f"
            ],
            [
             0.2222222222222222,
             "#7201a8"
            ],
            [
             0.3333333333333333,
             "#9c179e"
            ],
            [
             0.4444444444444444,
             "#bd3786"
            ],
            [
             0.5555555555555556,
             "#d8576b"
            ],
            [
             0.6666666666666666,
             "#ed7953"
            ],
            [
             0.7777777777777778,
             "#fb9f3a"
            ],
            [
             0.8888888888888888,
             "#fdca26"
            ],
            [
             1,
             "#f0f921"
            ]
           ],
           "sequentialminus": [
            [
             0,
             "#0d0887"
            ],
            [
             0.1111111111111111,
             "#46039f"
            ],
            [
             0.2222222222222222,
             "#7201a8"
            ],
            [
             0.3333333333333333,
             "#9c179e"
            ],
            [
             0.4444444444444444,
             "#bd3786"
            ],
            [
             0.5555555555555556,
             "#d8576b"
            ],
            [
             0.6666666666666666,
             "#ed7953"
            ],
            [
             0.7777777777777778,
             "#fb9f3a"
            ],
            [
             0.8888888888888888,
             "#fdca26"
            ],
            [
             1,
             "#f0f921"
            ]
           ]
          },
          "colorway": [
           "#636efa",
           "#EF553B",
           "#00cc96",
           "#ab63fa",
           "#FFA15A",
           "#19d3f3",
           "#FF6692",
           "#B6E880",
           "#FF97FF",
           "#FECB52"
          ],
          "font": {
           "color": "#2a3f5f"
          },
          "geo": {
           "bgcolor": "white",
           "lakecolor": "white",
           "landcolor": "#E5ECF6",
           "showlakes": true,
           "showland": true,
           "subunitcolor": "white"
          },
          "hoverlabel": {
           "align": "left"
          },
          "hovermode": "closest",
          "mapbox": {
           "style": "light"
          },
          "paper_bgcolor": "white",
          "plot_bgcolor": "#E5ECF6",
          "polar": {
           "angularaxis": {
            "gridcolor": "white",
            "linecolor": "white",
            "ticks": ""
           },
           "bgcolor": "#E5ECF6",
           "radialaxis": {
            "gridcolor": "white",
            "linecolor": "white",
            "ticks": ""
           }
          },
          "scene": {
           "xaxis": {
            "backgroundcolor": "#E5ECF6",
            "gridcolor": "white",
            "gridwidth": 2,
            "linecolor": "white",
            "showbackground": true,
            "ticks": "",
            "zerolinecolor": "white"
           },
           "yaxis": {
            "backgroundcolor": "#E5ECF6",
            "gridcolor": "white",
            "gridwidth": 2,
            "linecolor": "white",
            "showbackground": true,
            "ticks": "",
            "zerolinecolor": "white"
           },
           "zaxis": {
            "backgroundcolor": "#E5ECF6",
            "gridcolor": "white",
            "gridwidth": 2,
            "linecolor": "white",
            "showbackground": true,
            "ticks": "",
            "zerolinecolor": "white"
           }
          },
          "shapedefaults": {
           "line": {
            "color": "#2a3f5f"
           }
          },
          "ternary": {
           "aaxis": {
            "gridcolor": "white",
            "linecolor": "white",
            "ticks": ""
           },
           "baxis": {
            "gridcolor": "white",
            "linecolor": "white",
            "ticks": ""
           },
           "bgcolor": "#E5ECF6",
           "caxis": {
            "gridcolor": "white",
            "linecolor": "white",
            "ticks": ""
           }
          },
          "title": {
           "x": 0.05
          },
          "xaxis": {
           "automargin": true,
           "gridcolor": "white",
           "linecolor": "white",
           "ticks": "",
           "title": {
            "standoff": 15
           },
           "zerolinecolor": "white",
           "zerolinewidth": 2
          },
          "yaxis": {
           "automargin": true,
           "gridcolor": "white",
           "linecolor": "white",
           "ticks": "",
           "title": {
            "standoff": 15
           },
           "zerolinecolor": "white",
           "zerolinewidth": 2
          }
         }
        },
        "title": {
         "text": "2005 Race for the Title",
         "x": 0.5
        },
        "xaxis": {
         "anchor": "y",
         "domain": [
          0,
          1
         ],
         "gridcolor": "lightgrey",
         "gridwidth": 1,
         "showgrid": true,
         "title": {
          "text": "Race"
         }
        },
        "yaxis": {
         "anchor": "x",
         "domain": [
          0,
          1
         ],
         "title": {
          "text": "Cumulative Points"
         }
        }
       }
      }
     },
     "metadata": {},
     "output_type": "display_data"
    }
   ],
   "source": [
    "# 2005 season ---------------------------------------------------------------------------------------------------\n",
    "# The race for the title\n",
    "season_2005 = pd.read_csv('treated_data/csv/results.csv')\n",
    "season_2005 = season_2005[season_2005['season'] == 2005]\n",
    "season_2005['points'] = pd.to_numeric(season_2005['points'], errors='coerce')\n",
    "season_2005 = season_2005.sort_values(by=['raceId'])\n",
    "season_2005['cumulative_points'] = season_2005.groupby('driverId')['points'].cumsum()\n",
    "final_plot_data = season_2005[['driverId', 'raceId', 'cumulative_points']]\n",
    "total_points_per_driver = season_2005.groupby('driverId')['points'].sum().reset_index().rename(columns={'points': 'points_total'})\n",
    "final_plot_data = final_plot_data.merge(total_points_per_driver, on='driverId', how='left')\n",
    "final_plot_data = final_plot_data.sort_values(by=['points_total', 'raceId'], ascending=[False, True])\n",
    "sorted_drivers = total_points_per_driver['driverId'].tolist()\n",
    "#save sorted drivers to csv\n",
    "final_plot_data.to_csv('treated_data/csv/2005_sorted_drivers.csv', index=False)\n",
    "\n",
    "driver_colors = {\n",
    "    'fisichella': '#FFFF00',  # hex for yellow\n",
    "    'barrichello': '#FF0000',  # hex for red\n",
    "    'alonso': '#FFFF00',  # hex for yellow\n",
    "    'coulthard': '#00008B',  # hex for dark blue\n",
    "    'webber': '#ADD8E6',  # hex for light blue\n",
    "    'montoya': '#FFA500',  # hex for orange\n",
    "    'klien': '#00008B',  # hex for dark blue\n",
    "    'raikkonen': '#FFA500',  # hex for orange\n",
    "    'trulli': '#FFC0CB',  # hex for pink\n",
    "    'massa': '#0000FF',  # hex for blue\n",
    "    'button': '#D3D3D3',  # hex for light grey\n",
    "    'ralf_schumacher': '#FFC0CB',  # hex for pink\n",
    "    'villeneuve': '#0000FF',  # hex for blue\n",
    "    'sato': '#D3D3D3',  # hex for light grey\n",
    "    'karthikeyan': '#9ACD32',  # using yellowgreen, darkyellow doesn't exist\n",
    "    'monteiro': '#9ACD32',  # using yellowgreen\n",
    "    'friesacher': '#000000',  # hex for black\n",
    "    'michael_schumacher': '#FF0000',  # hex for red\n",
    "    'heidfeld': '#ADD8E6',  # hex for light blue\n",
    "    'albers': '#000000'  # hex for black\n",
    "}\n",
    "\n",
    "\n",
    "# Dictionary for custom line styles per driver (solid by default, dash or dot as specified)\n",
    "driver_line_styles = {\n",
    "    'fisichella': 'dash',\n",
    "    'barrichello': 'dash',\n",
    "    'montoya': 'dash',\n",
    "    'klien': 'dash',\n",
    "    'trulli': 'dash',\n",
    "    'massa': 'dash',\n",
    "    'sato': 'dash',\n",
    "    'karthikeyan': 'dash',\n",
    "    'friesacher': 'dash',\n",
    "    'heidfeld': 'dash',\n",
    "    # Default is solid, not listed\n",
    "}\n",
    "\n",
    "final_plot_data['driverId'] = pd.Categorical(\n",
    "    final_plot_data['driverId'],\n",
    "    categories=sorted_drivers,\n",
    "    ordered=True\n",
    ")\n",
    "\n",
    "# Create the plot using Plotly Express\n",
    "fig = px.line(\n",
    "    final_plot_data,\n",
    "    x='raceId',\n",
    "    y='cumulative_points',\n",
    "    color='driverId',  # Ensures legend order\n",
    "    labels={'driverId': 'Driver', 'raceId': 'Race', 'cumulative_points': 'Cumulative Points'}\n",
    ")\n",
    "\n",
    "# Convert to Graph Objects for detailed customization\n",
    "fig = go.Figure(fig)\n",
    "\n",
    "# Update colors and line styles based on custom definitions\n",
    "for trace in fig.data:\n",
    "    driver_name = trace.name.lower()  # Assuming driverId is used as name, adjust if necessary\n",
    "    trace.line.color = driver_colors.get(driver_name, '#3b3b3b')  # Default to gray if not specified\n",
    "    trace.line.dash = driver_line_styles.get(driver_name, 'solid')  # Default to solid if not specified\n",
    "\n",
    "fig.update_layout(\n",
    "    title='2005 Race for the Title',  # Adding a title\n",
    "    title_x=0.5,  # Center the title\n",
    "    paper_bgcolor='white',  # Set the background color around the plot\n",
    "    plot_bgcolor='white'  # Set the background color of the plot itself\n",
    ")\n",
    "fig.update_xaxes(\n",
    "    showgrid=True,\n",
    "    gridwidth=1,\n",
    "    gridcolor='lightgrey'\n",
    ")\n",
    "# Show the figure\n",
    "fig.show()\n"
   ]
  },
  {
   "cell_type": "code",
   "execution_count": 5,
   "metadata": {},
   "outputs": [
    {
     "data": {
      "application/vnd.plotly.v1+json": {
       "config": {
        "plotlyServerURL": "https://plot.ly"
       },
       "data": [
        {
         "hovertemplate": "Driver=alonso<br>Race=%{x}<br>Cumulative Points=%{y}<extra></extra>",
         "legendgroup": "alonso",
         "line": {
          "color": "#FFD700",
          "dash": "solid"
         },
         "marker": {
          "symbol": "circle"
         },
         "mode": "lines",
         "name": "alonso",
         "orientation": "v",
         "showlegend": true,
         "type": "scatter",
         "x": [
          "Australian Grand Prix 2006",
          "Bahrain Grand Prix 2006",
          "Brazilian Grand Prix 2006",
          "British Grand Prix 2006",
          "Canadian Grand Prix 2006",
          "Chinese Grand Prix 2006",
          "European Grand Prix 2006",
          "French Grand Prix 2006",
          "German Grand Prix 2006",
          "Hungarian Grand Prix 2006",
          "Italian Grand Prix 2006",
          "Japanese Grand Prix 2006",
          "Malaysian Grand Prix 2006",
          "Monaco Grand Prix 2006",
          "San Marino Grand Prix 2006",
          "Spanish Grand Prix 2006",
          "Turkish Grand Prix 2006",
          "United States Grand Prix 2006"
         ],
         "xaxis": "x",
         "y": [
          10,
          20,
          28,
          38,
          48,
          56,
          64,
          72,
          76,
          76,
          76,
          86,
          94,
          104,
          112,
          122,
          130,
          134
         ],
         "yaxis": "y"
        },
        {
         "hovertemplate": "Driver=michael_schumacher<br>Race=%{x}<br>Cumulative Points=%{y}<extra></extra>",
         "legendgroup": "michael_schumacher",
         "line": {
          "color": "#DC0000",
          "dash": "solid"
         },
         "marker": {
          "symbol": "circle"
         },
         "mode": "lines",
         "name": "michael_schumacher",
         "orientation": "v",
         "showlegend": true,
         "type": "scatter",
         "x": [
          "Australian Grand Prix 2006",
          "Bahrain Grand Prix 2006",
          "Brazilian Grand Prix 2006",
          "British Grand Prix 2006",
          "Canadian Grand Prix 2006",
          "Chinese Grand Prix 2006",
          "European Grand Prix 2006",
          "French Grand Prix 2006",
          "German Grand Prix 2006",
          "Hungarian Grand Prix 2006",
          "Italian Grand Prix 2006",
          "Japanese Grand Prix 2006",
          "Malaysian Grand Prix 2006",
          "Monaco Grand Prix 2006",
          "San Marino Grand Prix 2006",
          "Spanish Grand Prix 2006",
          "Turkish Grand Prix 2006",
          "United States Grand Prix 2006"
         ],
         "xaxis": "x",
         "y": [
          0,
          8,
          13,
          21,
          29,
          39,
          49,
          59,
          69,
          70,
          80,
          80,
          83,
          87,
          97,
          105,
          111,
          121
         ],
         "yaxis": "y"
        },
        {
         "hovertemplate": "Driver=massa<br>Race=%{x}<br>Cumulative Points=%{y}<extra></extra>",
         "legendgroup": "massa",
         "line": {
          "color": "#DC0000",
          "dash": "dash"
         },
         "marker": {
          "symbol": "circle"
         },
         "mode": "lines",
         "name": "massa",
         "orientation": "v",
         "showlegend": true,
         "type": "scatter",
         "x": [
          "Australian Grand Prix 2006",
          "Bahrain Grand Prix 2006",
          "Brazilian Grand Prix 2006",
          "British Grand Prix 2006",
          "Canadian Grand Prix 2006",
          "Chinese Grand Prix 2006",
          "European Grand Prix 2006",
          "French Grand Prix 2006",
          "German Grand Prix 2006",
          "Hungarian Grand Prix 2006",
          "Italian Grand Prix 2006",
          "Japanese Grand Prix 2006",
          "Malaysian Grand Prix 2006",
          "Monaco Grand Prix 2006",
          "San Marino Grand Prix 2006",
          "Spanish Grand Prix 2006",
          "Turkish Grand Prix 2006",
          "United States Grand Prix 2006"
         ],
         "xaxis": "x",
         "y": [
          0,
          0,
          10,
          14,
          18,
          18,
          24,
          30,
          38,
          40,
          40,
          48,
          52,
          52,
          57,
          62,
          72,
          80
         ],
         "yaxis": "y"
        },
        {
         "hovertemplate": "Driver=fisichella<br>Race=%{x}<br>Cumulative Points=%{y}<extra></extra>",
         "legendgroup": "fisichella",
         "line": {
          "color": "#FFD700",
          "dash": "dash"
         },
         "marker": {
          "symbol": "circle"
         },
         "mode": "lines",
         "name": "fisichella",
         "orientation": "v",
         "showlegend": true,
         "type": "scatter",
         "x": [
          "Australian Grand Prix 2006",
          "Bahrain Grand Prix 2006",
          "Brazilian Grand Prix 2006",
          "British Grand Prix 2006",
          "Canadian Grand Prix 2006",
          "Chinese Grand Prix 2006",
          "European Grand Prix 2006",
          "French Grand Prix 2006",
          "German Grand Prix 2006",
          "Hungarian Grand Prix 2006",
          "Italian Grand Prix 2006",
          "Japanese Grand Prix 2006",
          "Malaysian Grand Prix 2006",
          "Monaco Grand Prix 2006",
          "San Marino Grand Prix 2006",
          "Spanish Grand Prix 2006",
          "Turkish Grand Prix 2006",
          "United States Grand Prix 2006"
         ],
         "xaxis": "x",
         "y": [
          4,
          4,
          7,
          12,
          17,
          23,
          26,
          29,
          32,
          32,
          37,
          43,
          53,
          56,
          57,
          63,
          66,
          72
         ],
         "yaxis": "y"
        },
        {
         "hovertemplate": "Driver=raikkonen<br>Race=%{x}<br>Cumulative Points=%{y}<extra></extra>",
         "legendgroup": "raikkonen",
         "line": {
          "color": "#FF8700",
          "dash": "solid"
         },
         "marker": {
          "symbol": "circle"
         },
         "mode": "lines",
         "name": "raikkonen",
         "orientation": "v",
         "showlegend": true,
         "type": "scatter",
         "x": [
          "Australian Grand Prix 2006",
          "Bahrain Grand Prix 2006",
          "Brazilian Grand Prix 2006",
          "British Grand Prix 2006",
          "Canadian Grand Prix 2006",
          "Chinese Grand Prix 2006",
          "European Grand Prix 2006",
          "French Grand Prix 2006",
          "German Grand Prix 2006",
          "Hungarian Grand Prix 2006",
          "Italian Grand Prix 2006",
          "Japanese Grand Prix 2006",
          "Malaysian Grand Prix 2006",
          "Monaco Grand Prix 2006",
          "San Marino Grand Prix 2006",
          "Spanish Grand Prix 2006",
          "Turkish Grand Prix 2006",
          "United States Grand Prix 2006"
         ],
         "xaxis": "x",
         "y": [
          8,
          14,
          18,
          24,
          30,
          30,
          35,
          39,
          45,
          45,
          53,
          57,
          57,
          57,
          61,
          65,
          65,
          65
         ],
         "yaxis": "y"
        },
        {
         "hovertemplate": "Driver=button<br>Race=%{x}<br>Cumulative Points=%{y}<extra></extra>",
         "legendgroup": "button",
         "line": {
          "color": "#FFC0CB",
          "dash": "solid"
         },
         "marker": {
          "symbol": "circle"
         },
         "mode": "lines",
         "name": "button",
         "orientation": "v",
         "showlegend": true,
         "type": "scatter",
         "x": [
          "Australian Grand Prix 2006",
          "Bahrain Grand Prix 2006",
          "Brazilian Grand Prix 2006",
          "British Grand Prix 2006",
          "Canadian Grand Prix 2006",
          "Chinese Grand Prix 2006",
          "European Grand Prix 2006",
          "French Grand Prix 2006",
          "German Grand Prix 2006",
          "Hungarian Grand Prix 2006",
          "Italian Grand Prix 2006",
          "Japanese Grand Prix 2006",
          "Malaysian Grand Prix 2006",
          "Monaco Grand Prix 2006",
          "San Marino Grand Prix 2006",
          "Spanish Grand Prix 2006",
          "Turkish Grand Prix 2006",
          "United States Grand Prix 2006"
         ],
         "xaxis": "x",
         "y": [
          0,
          5,
          11,
          11,
          11,
          16,
          16,
          16,
          21,
          31,
          35,
          40,
          46,
          46,
          48,
          51,
          56,
          56
         ],
         "yaxis": "y"
        },
        {
         "hovertemplate": "Driver=barrichello<br>Race=%{x}<br>Cumulative Points=%{y}<extra></extra>",
         "legendgroup": "barrichello",
         "line": {
          "color": "#FFC0CB",
          "dash": "dash"
         },
         "marker": {
          "symbol": "circle"
         },
         "mode": "lines",
         "name": "barrichello",
         "orientation": "v",
         "showlegend": true,
         "type": "scatter",
         "x": [
          "Australian Grand Prix 2006",
          "Bahrain Grand Prix 2006",
          "Brazilian Grand Prix 2006",
          "British Grand Prix 2006",
          "Canadian Grand Prix 2006",
          "Chinese Grand Prix 2006",
          "European Grand Prix 2006",
          "French Grand Prix 2006",
          "German Grand Prix 2006",
          "Hungarian Grand Prix 2006",
          "Italian Grand Prix 2006",
          "Japanese Grand Prix 2006",
          "Malaysian Grand Prix 2006",
          "Monaco Grand Prix 2006",
          "San Marino Grand Prix 2006",
          "Spanish Grand Prix 2006",
          "Turkish Grand Prix 2006",
          "United States Grand Prix 2006"
         ],
         "xaxis": "x",
         "y": [
          2,
          2,
          4,
          4,
          4,
          7,
          11,
          11,
          11,
          16,
          19,
          19,
          19,
          24,
          24,
          26,
          27,
          30
         ],
         "yaxis": "y"
        },
        {
         "hovertemplate": "Driver=montoya<br>Race=%{x}<br>Cumulative Points=%{y}<extra></extra>",
         "legendgroup": "montoya",
         "line": {
          "color": "#FF8700",
          "dash": "dash"
         },
         "marker": {
          "symbol": "circle"
         },
         "mode": "lines",
         "name": "montoya",
         "orientation": "v",
         "showlegend": true,
         "type": "scatter",
         "x": [
          "Australian Grand Prix 2006",
          "Bahrain Grand Prix 2006",
          "British Grand Prix 2006",
          "Canadian Grand Prix 2006",
          "European Grand Prix 2006",
          "Malaysian Grand Prix 2006",
          "Monaco Grand Prix 2006",
          "San Marino Grand Prix 2006",
          "Spanish Grand Prix 2006",
          "United States Grand Prix 2006"
         ],
         "xaxis": "x",
         "y": [
          0,
          4,
          7,
          7,
          7,
          12,
          20,
          26,
          26,
          26
         ],
         "yaxis": "y"
        },
        {
         "hovertemplate": "Driver=heidfeld<br>Race=%{x}<br>Cumulative Points=%{y}<extra></extra>",
         "legendgroup": "heidfeld",
         "line": {
          "color": "#C8F4F6",
          "dash": "solid"
         },
         "marker": {
          "symbol": "circle"
         },
         "mode": "lines",
         "name": "heidfeld",
         "orientation": "v",
         "showlegend": true,
         "type": "scatter",
         "x": [
          "Australian Grand Prix 2006",
          "Bahrain Grand Prix 2006",
          "Brazilian Grand Prix 2006",
          "British Grand Prix 2006",
          "Canadian Grand Prix 2006",
          "Chinese Grand Prix 2006",
          "European Grand Prix 2006",
          "French Grand Prix 2006",
          "German Grand Prix 2006",
          "Hungarian Grand Prix 2006",
          "Italian Grand Prix 2006",
          "Japanese Grand Prix 2006",
          "Malaysian Grand Prix 2006",
          "Monaco Grand Prix 2006",
          "San Marino Grand Prix 2006",
          "Spanish Grand Prix 2006",
          "Turkish Grand Prix 2006",
          "United States Grand Prix 2006"
         ],
         "xaxis": "x",
         "y": [
          5,
          5,
          5,
          7,
          9,
          11,
          11,
          12,
          12,
          18,
          19,
          20,
          20,
          22,
          22,
          23,
          23,
          23
         ],
         "yaxis": "y"
        },
        {
         "hovertemplate": "Driver=ralf_schumacher<br>Race=%{x}<br>Cumulative Points=%{y}<extra></extra>",
         "legendgroup": "ralf_schumacher",
         "line": {
          "color": "#000000",
          "dash": "solid"
         },
         "marker": {
          "symbol": "circle"
         },
         "mode": "lines",
         "name": "ralf_schumacher",
         "orientation": "v",
         "showlegend": true,
         "type": "scatter",
         "x": [
          "Australian Grand Prix 2006",
          "Bahrain Grand Prix 2006",
          "Brazilian Grand Prix 2006",
          "British Grand Prix 2006",
          "Canadian Grand Prix 2006",
          "Chinese Grand Prix 2006",
          "European Grand Prix 2006",
          "French Grand Prix 2006",
          "German Grand Prix 2006",
          "Hungarian Grand Prix 2006",
          "Italian Grand Prix 2006",
          "Japanese Grand Prix 2006",
          "Malaysian Grand Prix 2006",
          "Monaco Grand Prix 2006",
          "San Marino Grand Prix 2006",
          "Spanish Grand Prix 2006",
          "Turkish Grand Prix 2006",
          "United States Grand Prix 2006"
         ],
         "xaxis": "x",
         "y": [
          6,
          6,
          6,
          6,
          6,
          6,
          6,
          11,
          11,
          14,
          14,
          16,
          17,
          18,
          18,
          18,
          20,
          20
         ],
         "yaxis": "y"
        },
        {
         "hovertemplate": "Driver=rosa<br>Race=%{x}<br>Cumulative Points=%{y}<extra></extra>",
         "legendgroup": "rosa",
         "line": {
          "color": "#3b3b3b",
          "dash": "solid"
         },
         "marker": {
          "symbol": "circle"
         },
         "mode": "lines",
         "name": "rosa",
         "orientation": "v",
         "showlegend": true,
         "type": "scatter",
         "x": [
          "Brazilian Grand Prix 2006",
          "Chinese Grand Prix 2006",
          "French Grand Prix 2006",
          "German Grand Prix 2006",
          "Hungarian Grand Prix 2006",
          "Italian Grand Prix 2006",
          "Japanese Grand Prix 2006",
          "Turkish Grand Prix 2006"
         ],
         "xaxis": "x",
         "y": [
          1,
          5,
          7,
          7,
          15,
          15,
          15,
          19
         ],
         "yaxis": "y"
        },
        {
         "hovertemplate": "Driver=trulli<br>Race=%{x}<br>Cumulative Points=%{y}<extra></extra>",
         "legendgroup": "trulli",
         "line": {
          "color": "#000000",
          "dash": "dash"
         },
         "marker": {
          "symbol": "circle"
         },
         "mode": "lines",
         "name": "trulli",
         "orientation": "v",
         "showlegend": true,
         "type": "scatter",
         "x": [
          "Australian Grand Prix 2006",
          "Bahrain Grand Prix 2006",
          "Brazilian Grand Prix 2006",
          "British Grand Prix 2006",
          "Canadian Grand Prix 2006",
          "Chinese Grand Prix 2006",
          "European Grand Prix 2006",
          "French Grand Prix 2006",
          "German Grand Prix 2006",
          "Hungarian Grand Prix 2006",
          "Italian Grand Prix 2006",
          "Japanese Grand Prix 2006",
          "Malaysian Grand Prix 2006",
          "Monaco Grand Prix 2006",
          "San Marino Grand Prix 2006",
          "Spanish Grand Prix 2006",
          "Turkish Grand Prix 2006",
          "United States Grand Prix 2006"
         ],
         "xaxis": "x",
         "y": [
          0,
          0,
          0,
          0,
          3,
          3,
          3,
          3,
          5,
          5,
          7,
          10,
          10,
          10,
          10,
          10,
          10,
          15
         ],
         "yaxis": "y"
        },
        {
         "hovertemplate": "Driver=coulthard<br>Race=%{x}<br>Cumulative Points=%{y}<extra></extra>",
         "legendgroup": "coulthard",
         "line": {
          "color": "#00008B",
          "dash": "solid"
         },
         "marker": {
          "symbol": "circle"
         },
         "mode": "lines",
         "name": "coulthard",
         "orientation": "v",
         "showlegend": true,
         "type": "scatter",
         "x": [
          "Australian Grand Prix 2006",
          "Bahrain Grand Prix 2006",
          "Brazilian Grand Prix 2006",
          "British Grand Prix 2006",
          "Canadian Grand Prix 2006",
          "Chinese Grand Prix 2006",
          "European Grand Prix 2006",
          "French Grand Prix 2006",
          "German Grand Prix 2006",
          "Hungarian Grand Prix 2006",
          "Italian Grand Prix 2006",
          "Japanese Grand Prix 2006",
          "Malaysian Grand Prix 2006",
          "Monaco Grand Prix 2006",
          "San Marino Grand Prix 2006",
          "Spanish Grand Prix 2006",
          "Turkish Grand Prix 2006",
          "United States Grand Prix 2006"
         ],
         "xaxis": "x",
         "y": [
          1,
          1,
          1,
          1,
          2,
          2,
          2,
          2,
          2,
          6,
          6,
          6,
          6,
          12,
          12,
          12,
          12,
          14
         ],
         "yaxis": "y"
        },
        {
         "hovertemplate": "Driver=villeneuve<br>Race=%{x}<br>Cumulative Points=%{y}<extra></extra>",
         "legendgroup": "villeneuve",
         "line": {
          "color": "#C8F4F6",
          "dash": "dash"
         },
         "marker": {
          "symbol": "circle"
         },
         "mode": "lines",
         "name": "villeneuve",
         "orientation": "v",
         "showlegend": true,
         "type": "scatter",
         "x": [
          "Australian Grand Prix 2006",
          "Bahrain Grand Prix 2006",
          "British Grand Prix 2006",
          "Canadian Grand Prix 2006",
          "European Grand Prix 2006",
          "French Grand Prix 2006",
          "German Grand Prix 2006",
          "Malaysian Grand Prix 2006",
          "Monaco Grand Prix 2006",
          "San Marino Grand Prix 2006",
          "Spanish Grand Prix 2006",
          "United States Grand Prix 2006"
         ],
         "xaxis": "x",
         "y": [
          3,
          3,
          4,
          4,
          5,
          5,
          5,
          7,
          7,
          7,
          7,
          7
         ],
         "yaxis": "y"
        },
        {
         "hovertemplate": "Driver=webber<br>Race=%{x}<br>Cumulative Points=%{y}<extra></extra>",
         "legendgroup": "webber",
         "line": {
          "color": "#ADD8E6",
          "dash": "solid"
         },
         "marker": {
          "symbol": "circle"
         },
         "mode": "lines",
         "name": "webber",
         "orientation": "v",
         "showlegend": true,
         "type": "scatter",
         "x": [
          "Australian Grand Prix 2006",
          "Bahrain Grand Prix 2006",
          "Brazilian Grand Prix 2006",
          "British Grand Prix 2006",
          "Canadian Grand Prix 2006",
          "Chinese Grand Prix 2006",
          "European Grand Prix 2006",
          "French Grand Prix 2006",
          "German Grand Prix 2006",
          "Hungarian Grand Prix 2006",
          "Italian Grand Prix 2006",
          "Japanese Grand Prix 2006",
          "Malaysian Grand Prix 2006",
          "Monaco Grand Prix 2006",
          "San Marino Grand Prix 2006",
          "Spanish Grand Prix 2006",
          "Turkish Grand Prix 2006",
          "United States Grand Prix 2006"
         ],
         "xaxis": "x",
         "y": [
          0,
          3,
          3,
          3,
          3,
          4,
          4,
          4,
          4,
          4,
          4,
          4,
          4,
          4,
          7,
          7,
          7,
          7
         ],
         "yaxis": "y"
        },
        {
         "hovertemplate": "Driver=kubica<br>Race=%{x}<br>Cumulative Points=%{y}<extra></extra>",
         "legendgroup": "kubica",
         "line": {
          "color": "#3b3b3b",
          "dash": "solid"
         },
         "marker": {
          "symbol": "circle"
         },
         "mode": "lines",
         "name": "kubica",
         "orientation": "v",
         "showlegend": true,
         "type": "scatter",
         "x": [
          "Brazilian Grand Prix 2006",
          "Chinese Grand Prix 2006",
          "Hungarian Grand Prix 2006",
          "Italian Grand Prix 2006",
          "Japanese Grand Prix 2006",
          "Turkish Grand Prix 2006"
         ],
         "xaxis": "x",
         "y": [
          0,
          0,
          0,
          6,
          6,
          6
         ],
         "yaxis": "y"
        },
        {
         "hovertemplate": "Driver=rosberg<br>Race=%{x}<br>Cumulative Points=%{y}<extra></extra>",
         "legendgroup": "rosberg",
         "line": {
          "color": "#ADD8E6",
          "dash": "dash"
         },
         "marker": {
          "symbol": "circle"
         },
         "mode": "lines",
         "name": "rosberg",
         "orientation": "v",
         "showlegend": true,
         "type": "scatter",
         "x": [
          "Australian Grand Prix 2006",
          "Bahrain Grand Prix 2006",
          "Brazilian Grand Prix 2006",
          "British Grand Prix 2006",
          "Canadian Grand Prix 2006",
          "Chinese Grand Prix 2006",
          "European Grand Prix 2006",
          "French Grand Prix 2006",
          "German Grand Prix 2006",
          "Hungarian Grand Prix 2006",
          "Italian Grand Prix 2006",
          "Japanese Grand Prix 2006",
          "Malaysian Grand Prix 2006",
          "Monaco Grand Prix 2006",
          "San Marino Grand Prix 2006",
          "Spanish Grand Prix 2006",
          "Turkish Grand Prix 2006",
          "United States Grand Prix 2006"
         ],
         "xaxis": "x",
         "y": [
          0,
          2,
          2,
          2,
          2,
          2,
          4,
          4,
          4,
          4,
          4,
          4,
          4,
          4,
          4,
          4,
          4,
          4
         ],
         "yaxis": "y"
        },
        {
         "hovertemplate": "Driver=klien<br>Race=%{x}<br>Cumulative Points=%{y}<extra></extra>",
         "legendgroup": "klien",
         "line": {
          "color": "#00008B",
          "dash": "dash"
         },
         "marker": {
          "symbol": "circle"
         },
         "mode": "lines",
         "name": "klien",
         "orientation": "v",
         "showlegend": true,
         "type": "scatter",
         "x": [
          "Australian Grand Prix 2006",
          "Bahrain Grand Prix 2006",
          "British Grand Prix 2006",
          "Canadian Grand Prix 2006",
          "European Grand Prix 2006",
          "French Grand Prix 2006",
          "German Grand Prix 2006",
          "Hungarian Grand Prix 2006",
          "Italian Grand Prix 2006",
          "Malaysian Grand Prix 2006",
          "Monaco Grand Prix 2006",
          "San Marino Grand Prix 2006",
          "Spanish Grand Prix 2006",
          "Turkish Grand Prix 2006",
          "United States Grand Prix 2006"
         ],
         "xaxis": "x",
         "y": [
          0,
          1,
          1,
          1,
          1,
          1,
          2,
          2,
          2,
          2,
          2,
          2,
          2,
          2,
          2
         ],
         "yaxis": "y"
        },
        {
         "hovertemplate": "Driver=liuzzi<br>Race=%{x}<br>Cumulative Points=%{y}<extra></extra>",
         "legendgroup": "liuzzi",
         "line": {
          "color": "#0000FF",
          "dash": "solid"
         },
         "marker": {
          "symbol": "circle"
         },
         "mode": "lines",
         "name": "liuzzi",
         "orientation": "v",
         "showlegend": true,
         "type": "scatter",
         "x": [
          "Australian Grand Prix 2006",
          "Bahrain Grand Prix 2006",
          "Brazilian Grand Prix 2006",
          "British Grand Prix 2006",
          "Canadian Grand Prix 2006",
          "Chinese Grand Prix 2006",
          "European Grand Prix 2006",
          "French Grand Prix 2006",
          "German Grand Prix 2006",
          "Hungarian Grand Prix 2006",
          "Italian Grand Prix 2006",
          "Japanese Grand Prix 2006",
          "Malaysian Grand Prix 2006",
          "Monaco Grand Prix 2006",
          "San Marino Grand Prix 2006",
          "Spanish Grand Prix 2006",
          "Turkish Grand Prix 2006",
          "United States Grand Prix 2006"
         ],
         "xaxis": "x",
         "y": [
          0,
          0,
          0,
          0,
          0,
          0,
          0,
          0,
          0,
          0,
          0,
          0,
          0,
          0,
          0,
          0,
          0,
          1
         ],
         "yaxis": "y"
        },
        {
         "hovertemplate": "Driver=speed<br>Race=%{x}<br>Cumulative Points=%{y}<extra></extra>",
         "legendgroup": "speed",
         "line": {
          "color": "#0000FF",
          "dash": "dash"
         },
         "marker": {
          "symbol": "circle"
         },
         "mode": "lines",
         "name": "speed",
         "orientation": "v",
         "showlegend": true,
         "type": "scatter",
         "x": [
          "Australian Grand Prix 2006",
          "Bahrain Grand Prix 2006",
          "Brazilian Grand Prix 2006",
          "British Grand Prix 2006",
          "Canadian Grand Prix 2006",
          "Chinese Grand Prix 2006",
          "European Grand Prix 2006",
          "French Grand Prix 2006",
          "German Grand Prix 2006",
          "Hungarian Grand Prix 2006",
          "Italian Grand Prix 2006",
          "Japanese Grand Prix 2006",
          "Malaysian Grand Prix 2006",
          "Monaco Grand Prix 2006",
          "San Marino Grand Prix 2006",
          "Spanish Grand Prix 2006",
          "Turkish Grand Prix 2006",
          "United States Grand Prix 2006"
         ],
         "xaxis": "x",
         "y": [
          0,
          0,
          0,
          0,
          0,
          0,
          0,
          0,
          0,
          0,
          0,
          0,
          0,
          0,
          0,
          0,
          0,
          0
         ],
         "yaxis": "y"
        },
        {
         "hovertemplate": "Driver=albers<br>Race=%{x}<br>Cumulative Points=%{y}<extra></extra>",
         "legendgroup": "albers",
         "line": {
          "color": "#F75920",
          "dash": "dash"
         },
         "marker": {
          "symbol": "circle"
         },
         "mode": "lines",
         "name": "albers",
         "orientation": "v",
         "showlegend": true,
         "type": "scatter",
         "x": [
          "Australian Grand Prix 2006",
          "Bahrain Grand Prix 2006",
          "Brazilian Grand Prix 2006",
          "British Grand Prix 2006",
          "Canadian Grand Prix 2006",
          "Chinese Grand Prix 2006",
          "European Grand Prix 2006",
          "French Grand Prix 2006",
          "German Grand Prix 2006",
          "Hungarian Grand Prix 2006",
          "Italian Grand Prix 2006",
          "Japanese Grand Prix 2006",
          "Malaysian Grand Prix 2006",
          "Monaco Grand Prix 2006",
          "San Marino Grand Prix 2006",
          "Spanish Grand Prix 2006",
          "Turkish Grand Prix 2006",
          "United States Grand Prix 2006"
         ],
         "xaxis": "x",
         "y": [
          0,
          0,
          0,
          0,
          0,
          0,
          0,
          0,
          0,
          0,
          0,
          0,
          0,
          0,
          0,
          0,
          0,
          0
         ],
         "yaxis": "y"
        },
        {
         "hovertemplate": "Driver=sato<br>Race=%{x}<br>Cumulative Points=%{y}<extra></extra>",
         "legendgroup": "sato",
         "line": {
          "color": "#B4B4B4",
          "dash": "solid"
         },
         "marker": {
          "symbol": "circle"
         },
         "mode": "lines",
         "name": "sato",
         "orientation": "v",
         "showlegend": true,
         "type": "scatter",
         "x": [
          "Australian Grand Prix 2006",
          "Bahrain Grand Prix 2006",
          "Brazilian Grand Prix 2006",
          "British Grand Prix 2006",
          "Canadian Grand Prix 2006",
          "Chinese Grand Prix 2006",
          "European Grand Prix 2006",
          "French Grand Prix 2006",
          "German Grand Prix 2006",
          "Hungarian Grand Prix 2006",
          "Italian Grand Prix 2006",
          "Japanese Grand Prix 2006",
          "Malaysian Grand Prix 2006",
          "Monaco Grand Prix 2006",
          "San Marino Grand Prix 2006",
          "Spanish Grand Prix 2006",
          "Turkish Grand Prix 2006",
          "United States Grand Prix 2006"
         ],
         "xaxis": "x",
         "y": [
          0,
          0,
          0,
          0,
          0,
          0,
          0,
          0,
          0,
          0,
          0,
          0,
          0,
          0,
          0,
          0,
          0,
          0
         ],
         "yaxis": "y"
        },
        {
         "hovertemplate": "Driver=ide<br>Race=%{x}<br>Cumulative Points=%{y}<extra></extra>",
         "legendgroup": "ide",
         "line": {
          "color": "#B4B4B4",
          "dash": "dash"
         },
         "marker": {
          "symbol": "circle"
         },
         "mode": "lines",
         "name": "ide",
         "orientation": "v",
         "showlegend": true,
         "type": "scatter",
         "x": [
          "Australian Grand Prix 2006",
          "Bahrain Grand Prix 2006",
          "Malaysian Grand Prix 2006",
          "San Marino Grand Prix 2006"
         ],
         "xaxis": "x",
         "y": [
          0,
          0,
          0,
          0
         ],
         "yaxis": "y"
        },
        {
         "hovertemplate": "Driver=monteiro<br>Race=%{x}<br>Cumulative Points=%{y}<extra></extra>",
         "legendgroup": "monteiro",
         "line": {
          "color": "#F75920",
          "dash": "solid"
         },
         "marker": {
          "symbol": "circle"
         },
         "mode": "lines",
         "name": "monteiro",
         "orientation": "v",
         "showlegend": true,
         "type": "scatter",
         "x": [
          "Australian Grand Prix 2006",
          "Bahrain Grand Prix 2006",
          "Brazilian Grand Prix 2006",
          "British Grand Prix 2006",
          "Canadian Grand Prix 2006",
          "Chinese Grand Prix 2006",
          "European Grand Prix 2006",
          "French Grand Prix 2006",
          "German Grand Prix 2006",
          "Hungarian Grand Prix 2006",
          "Italian Grand Prix 2006",
          "Japanese Grand Prix 2006",
          "Malaysian Grand Prix 2006",
          "Monaco Grand Prix 2006",
          "San Marino Grand Prix 2006",
          "Spanish Grand Prix 2006",
          "Turkish Grand Prix 2006",
          "United States Grand Prix 2006"
         ],
         "xaxis": "x",
         "y": [
          0,
          0,
          0,
          0,
          0,
          0,
          0,
          0,
          0,
          0,
          0,
          0,
          0,
          0,
          0,
          0,
          0,
          0
         ],
         "yaxis": "y"
        },
        {
         "hovertemplate": "Driver=yamamoto<br>Race=%{x}<br>Cumulative Points=%{y}<extra></extra>",
         "legendgroup": "yamamoto",
         "line": {
          "color": "#3b3b3b",
          "dash": "solid"
         },
         "marker": {
          "symbol": "circle"
         },
         "mode": "lines",
         "name": "yamamoto",
         "orientation": "v",
         "showlegend": true,
         "type": "scatter",
         "x": [
          "Brazilian Grand Prix 2006",
          "Chinese Grand Prix 2006",
          "German Grand Prix 2006",
          "Hungarian Grand Prix 2006",
          "Italian Grand Prix 2006",
          "Japanese Grand Prix 2006",
          "Turkish Grand Prix 2006"
         ],
         "xaxis": "x",
         "y": [
          0,
          0,
          0,
          0,
          0,
          0,
          0
         ],
         "yaxis": "y"
        },
        {
         "hovertemplate": "Driver=doornbos<br>Race=%{x}<br>Cumulative Points=%{y}<extra></extra>",
         "legendgroup": "doornbos",
         "line": {
          "color": "#3b3b3b",
          "dash": "solid"
         },
         "marker": {
          "symbol": "circle"
         },
         "mode": "lines",
         "name": "doornbos",
         "orientation": "v",
         "showlegend": true,
         "type": "scatter",
         "x": [
          "Brazilian Grand Prix 2006",
          "Chinese Grand Prix 2006",
          "Japanese Grand Prix 2006"
         ],
         "xaxis": "x",
         "y": [
          0,
          0,
          0
         ],
         "yaxis": "y"
        },
        {
         "hovertemplate": "Driver=montagny<br>Race=%{x}<br>Cumulative Points=%{y}<extra></extra>",
         "legendgroup": "montagny",
         "line": {
          "color": "#3b3b3b",
          "dash": "solid"
         },
         "marker": {
          "symbol": "circle"
         },
         "mode": "lines",
         "name": "montagny",
         "orientation": "v",
         "showlegend": true,
         "type": "scatter",
         "x": [
          "British Grand Prix 2006",
          "Canadian Grand Prix 2006",
          "European Grand Prix 2006",
          "French Grand Prix 2006",
          "Monaco Grand Prix 2006",
          "Spanish Grand Prix 2006",
          "United States Grand Prix 2006"
         ],
         "xaxis": "x",
         "y": [
          0,
          0,
          0,
          0,
          0,
          0,
          0
         ],
         "yaxis": "y"
        }
       ],
       "layout": {
        "legend": {
         "title": {
          "text": "Driver"
         },
         "tracegroupgap": 0
        },
        "paper_bgcolor": "white",
        "plot_bgcolor": "white",
        "template": {
         "data": {
          "bar": [
           {
            "error_x": {
             "color": "#2a3f5f"
            },
            "error_y": {
             "color": "#2a3f5f"
            },
            "marker": {
             "line": {
              "color": "#E5ECF6",
              "width": 0.5
             },
             "pattern": {
              "fillmode": "overlay",
              "size": 10,
              "solidity": 0.2
             }
            },
            "type": "bar"
           }
          ],
          "barpolar": [
           {
            "marker": {
             "line": {
              "color": "#E5ECF6",
              "width": 0.5
             },
             "pattern": {
              "fillmode": "overlay",
              "size": 10,
              "solidity": 0.2
             }
            },
            "type": "barpolar"
           }
          ],
          "carpet": [
           {
            "aaxis": {
             "endlinecolor": "#2a3f5f",
             "gridcolor": "white",
             "linecolor": "white",
             "minorgridcolor": "white",
             "startlinecolor": "#2a3f5f"
            },
            "baxis": {
             "endlinecolor": "#2a3f5f",
             "gridcolor": "white",
             "linecolor": "white",
             "minorgridcolor": "white",
             "startlinecolor": "#2a3f5f"
            },
            "type": "carpet"
           }
          ],
          "choropleth": [
           {
            "colorbar": {
             "outlinewidth": 0,
             "ticks": ""
            },
            "type": "choropleth"
           }
          ],
          "contour": [
           {
            "colorbar": {
             "outlinewidth": 0,
             "ticks": ""
            },
            "colorscale": [
             [
              0,
              "#0d0887"
             ],
             [
              0.1111111111111111,
              "#46039f"
             ],
             [
              0.2222222222222222,
              "#7201a8"
             ],
             [
              0.3333333333333333,
              "#9c179e"
             ],
             [
              0.4444444444444444,
              "#bd3786"
             ],
             [
              0.5555555555555556,
              "#d8576b"
             ],
             [
              0.6666666666666666,
              "#ed7953"
             ],
             [
              0.7777777777777778,
              "#fb9f3a"
             ],
             [
              0.8888888888888888,
              "#fdca26"
             ],
             [
              1,
              "#f0f921"
             ]
            ],
            "type": "contour"
           }
          ],
          "contourcarpet": [
           {
            "colorbar": {
             "outlinewidth": 0,
             "ticks": ""
            },
            "type": "contourcarpet"
           }
          ],
          "heatmap": [
           {
            "colorbar": {
             "outlinewidth": 0,
             "ticks": ""
            },
            "colorscale": [
             [
              0,
              "#0d0887"
             ],
             [
              0.1111111111111111,
              "#46039f"
             ],
             [
              0.2222222222222222,
              "#7201a8"
             ],
             [
              0.3333333333333333,
              "#9c179e"
             ],
             [
              0.4444444444444444,
              "#bd3786"
             ],
             [
              0.5555555555555556,
              "#d8576b"
             ],
             [
              0.6666666666666666,
              "#ed7953"
             ],
             [
              0.7777777777777778,
              "#fb9f3a"
             ],
             [
              0.8888888888888888,
              "#fdca26"
             ],
             [
              1,
              "#f0f921"
             ]
            ],
            "type": "heatmap"
           }
          ],
          "heatmapgl": [
           {
            "colorbar": {
             "outlinewidth": 0,
             "ticks": ""
            },
            "colorscale": [
             [
              0,
              "#0d0887"
             ],
             [
              0.1111111111111111,
              "#46039f"
             ],
             [
              0.2222222222222222,
              "#7201a8"
             ],
             [
              0.3333333333333333,
              "#9c179e"
             ],
             [
              0.4444444444444444,
              "#bd3786"
             ],
             [
              0.5555555555555556,
              "#d8576b"
             ],
             [
              0.6666666666666666,
              "#ed7953"
             ],
             [
              0.7777777777777778,
              "#fb9f3a"
             ],
             [
              0.8888888888888888,
              "#fdca26"
             ],
             [
              1,
              "#f0f921"
             ]
            ],
            "type": "heatmapgl"
           }
          ],
          "histogram": [
           {
            "marker": {
             "pattern": {
              "fillmode": "overlay",
              "size": 10,
              "solidity": 0.2
             }
            },
            "type": "histogram"
           }
          ],
          "histogram2d": [
           {
            "colorbar": {
             "outlinewidth": 0,
             "ticks": ""
            },
            "colorscale": [
             [
              0,
              "#0d0887"
             ],
             [
              0.1111111111111111,
              "#46039f"
             ],
             [
              0.2222222222222222,
              "#7201a8"
             ],
             [
              0.3333333333333333,
              "#9c179e"
             ],
             [
              0.4444444444444444,
              "#bd3786"
             ],
             [
              0.5555555555555556,
              "#d8576b"
             ],
             [
              0.6666666666666666,
              "#ed7953"
             ],
             [
              0.7777777777777778,
              "#fb9f3a"
             ],
             [
              0.8888888888888888,
              "#fdca26"
             ],
             [
              1,
              "#f0f921"
             ]
            ],
            "type": "histogram2d"
           }
          ],
          "histogram2dcontour": [
           {
            "colorbar": {
             "outlinewidth": 0,
             "ticks": ""
            },
            "colorscale": [
             [
              0,
              "#0d0887"
             ],
             [
              0.1111111111111111,
              "#46039f"
             ],
             [
              0.2222222222222222,
              "#7201a8"
             ],
             [
              0.3333333333333333,
              "#9c179e"
             ],
             [
              0.4444444444444444,
              "#bd3786"
             ],
             [
              0.5555555555555556,
              "#d8576b"
             ],
             [
              0.6666666666666666,
              "#ed7953"
             ],
             [
              0.7777777777777778,
              "#fb9f3a"
             ],
             [
              0.8888888888888888,
              "#fdca26"
             ],
             [
              1,
              "#f0f921"
             ]
            ],
            "type": "histogram2dcontour"
           }
          ],
          "mesh3d": [
           {
            "colorbar": {
             "outlinewidth": 0,
             "ticks": ""
            },
            "type": "mesh3d"
           }
          ],
          "parcoords": [
           {
            "line": {
             "colorbar": {
              "outlinewidth": 0,
              "ticks": ""
             }
            },
            "type": "parcoords"
           }
          ],
          "pie": [
           {
            "automargin": true,
            "type": "pie"
           }
          ],
          "scatter": [
           {
            "fillpattern": {
             "fillmode": "overlay",
             "size": 10,
             "solidity": 0.2
            },
            "type": "scatter"
           }
          ],
          "scatter3d": [
           {
            "line": {
             "colorbar": {
              "outlinewidth": 0,
              "ticks": ""
             }
            },
            "marker": {
             "colorbar": {
              "outlinewidth": 0,
              "ticks": ""
             }
            },
            "type": "scatter3d"
           }
          ],
          "scattercarpet": [
           {
            "marker": {
             "colorbar": {
              "outlinewidth": 0,
              "ticks": ""
             }
            },
            "type": "scattercarpet"
           }
          ],
          "scattergeo": [
           {
            "marker": {
             "colorbar": {
              "outlinewidth": 0,
              "ticks": ""
             }
            },
            "type": "scattergeo"
           }
          ],
          "scattergl": [
           {
            "marker": {
             "colorbar": {
              "outlinewidth": 0,
              "ticks": ""
             }
            },
            "type": "scattergl"
           }
          ],
          "scattermapbox": [
           {
            "marker": {
             "colorbar": {
              "outlinewidth": 0,
              "ticks": ""
             }
            },
            "type": "scattermapbox"
           }
          ],
          "scatterpolar": [
           {
            "marker": {
             "colorbar": {
              "outlinewidth": 0,
              "ticks": ""
             }
            },
            "type": "scatterpolar"
           }
          ],
          "scatterpolargl": [
           {
            "marker": {
             "colorbar": {
              "outlinewidth": 0,
              "ticks": ""
             }
            },
            "type": "scatterpolargl"
           }
          ],
          "scatterternary": [
           {
            "marker": {
             "colorbar": {
              "outlinewidth": 0,
              "ticks": ""
             }
            },
            "type": "scatterternary"
           }
          ],
          "surface": [
           {
            "colorbar": {
             "outlinewidth": 0,
             "ticks": ""
            },
            "colorscale": [
             [
              0,
              "#0d0887"
             ],
             [
              0.1111111111111111,
              "#46039f"
             ],
             [
              0.2222222222222222,
              "#7201a8"
             ],
             [
              0.3333333333333333,
              "#9c179e"
             ],
             [
              0.4444444444444444,
              "#bd3786"
             ],
             [
              0.5555555555555556,
              "#d8576b"
             ],
             [
              0.6666666666666666,
              "#ed7953"
             ],
             [
              0.7777777777777778,
              "#fb9f3a"
             ],
             [
              0.8888888888888888,
              "#fdca26"
             ],
             [
              1,
              "#f0f921"
             ]
            ],
            "type": "surface"
           }
          ],
          "table": [
           {
            "cells": {
             "fill": {
              "color": "#EBF0F8"
             },
             "line": {
              "color": "white"
             }
            },
            "header": {
             "fill": {
              "color": "#C8D4E3"
             },
             "line": {
              "color": "white"
             }
            },
            "type": "table"
           }
          ]
         },
         "layout": {
          "annotationdefaults": {
           "arrowcolor": "#2a3f5f",
           "arrowhead": 0,
           "arrowwidth": 1
          },
          "autotypenumbers": "strict",
          "coloraxis": {
           "colorbar": {
            "outlinewidth": 0,
            "ticks": ""
           }
          },
          "colorscale": {
           "diverging": [
            [
             0,
             "#8e0152"
            ],
            [
             0.1,
             "#c51b7d"
            ],
            [
             0.2,
             "#de77ae"
            ],
            [
             0.3,
             "#f1b6da"
            ],
            [
             0.4,
             "#fde0ef"
            ],
            [
             0.5,
             "#f7f7f7"
            ],
            [
             0.6,
             "#e6f5d0"
            ],
            [
             0.7,
             "#b8e186"
            ],
            [
             0.8,
             "#7fbc41"
            ],
            [
             0.9,
             "#4d9221"
            ],
            [
             1,
             "#276419"
            ]
           ],
           "sequential": [
            [
             0,
             "#0d0887"
            ],
            [
             0.1111111111111111,
             "#46039f"
            ],
            [
             0.2222222222222222,
             "#7201a8"
            ],
            [
             0.3333333333333333,
             "#9c179e"
            ],
            [
             0.4444444444444444,
             "#bd3786"
            ],
            [
             0.5555555555555556,
             "#d8576b"
            ],
            [
             0.6666666666666666,
             "#ed7953"
            ],
            [
             0.7777777777777778,
             "#fb9f3a"
            ],
            [
             0.8888888888888888,
             "#fdca26"
            ],
            [
             1,
             "#f0f921"
            ]
           ],
           "sequentialminus": [
            [
             0,
             "#0d0887"
            ],
            [
             0.1111111111111111,
             "#46039f"
            ],
            [
             0.2222222222222222,
             "#7201a8"
            ],
            [
             0.3333333333333333,
             "#9c179e"
            ],
            [
             0.4444444444444444,
             "#bd3786"
            ],
            [
             0.5555555555555556,
             "#d8576b"
            ],
            [
             0.6666666666666666,
             "#ed7953"
            ],
            [
             0.7777777777777778,
             "#fb9f3a"
            ],
            [
             0.8888888888888888,
             "#fdca26"
            ],
            [
             1,
             "#f0f921"
            ]
           ]
          },
          "colorway": [
           "#636efa",
           "#EF553B",
           "#00cc96",
           "#ab63fa",
           "#FFA15A",
           "#19d3f3",
           "#FF6692",
           "#B6E880",
           "#FF97FF",
           "#FECB52"
          ],
          "font": {
           "color": "#2a3f5f"
          },
          "geo": {
           "bgcolor": "white",
           "lakecolor": "white",
           "landcolor": "#E5ECF6",
           "showlakes": true,
           "showland": true,
           "subunitcolor": "white"
          },
          "hoverlabel": {
           "align": "left"
          },
          "hovermode": "closest",
          "mapbox": {
           "style": "light"
          },
          "paper_bgcolor": "white",
          "plot_bgcolor": "#E5ECF6",
          "polar": {
           "angularaxis": {
            "gridcolor": "white",
            "linecolor": "white",
            "ticks": ""
           },
           "bgcolor": "#E5ECF6",
           "radialaxis": {
            "gridcolor": "white",
            "linecolor": "white",
            "ticks": ""
           }
          },
          "scene": {
           "xaxis": {
            "backgroundcolor": "#E5ECF6",
            "gridcolor": "white",
            "gridwidth": 2,
            "linecolor": "white",
            "showbackground": true,
            "ticks": "",
            "zerolinecolor": "white"
           },
           "yaxis": {
            "backgroundcolor": "#E5ECF6",
            "gridcolor": "white",
            "gridwidth": 2,
            "linecolor": "white",
            "showbackground": true,
            "ticks": "",
            "zerolinecolor": "white"
           },
           "zaxis": {
            "backgroundcolor": "#E5ECF6",
            "gridcolor": "white",
            "gridwidth": 2,
            "linecolor": "white",
            "showbackground": true,
            "ticks": "",
            "zerolinecolor": "white"
           }
          },
          "shapedefaults": {
           "line": {
            "color": "#2a3f5f"
           }
          },
          "ternary": {
           "aaxis": {
            "gridcolor": "white",
            "linecolor": "white",
            "ticks": ""
           },
           "baxis": {
            "gridcolor": "white",
            "linecolor": "white",
            "ticks": ""
           },
           "bgcolor": "#E5ECF6",
           "caxis": {
            "gridcolor": "white",
            "linecolor": "white",
            "ticks": ""
           }
          },
          "title": {
           "x": 0.05
          },
          "xaxis": {
           "automargin": true,
           "gridcolor": "white",
           "linecolor": "white",
           "ticks": "",
           "title": {
            "standoff": 15
           },
           "zerolinecolor": "white",
           "zerolinewidth": 2
          },
          "yaxis": {
           "automargin": true,
           "gridcolor": "white",
           "linecolor": "white",
           "ticks": "",
           "title": {
            "standoff": 15
           },
           "zerolinecolor": "white",
           "zerolinewidth": 2
          }
         }
        },
        "title": {
         "text": "2006 Race for the Title",
         "x": 0.5
        },
        "xaxis": {
         "anchor": "y",
         "domain": [
          0,
          1
         ],
         "gridcolor": "lightgrey",
         "gridwidth": 1,
         "showgrid": true,
         "title": {
          "text": "Race"
         }
        },
        "yaxis": {
         "anchor": "x",
         "domain": [
          0,
          1
         ],
         "title": {
          "text": "Cumulative Points"
         }
        }
       }
      }
     },
     "metadata": {},
     "output_type": "display_data"
    }
   ],
   "source": [
    "# 2005 season ---------------------------------------------------------------------------------------------------\n",
    "# The race for the title\n",
    "season_2006 = pd.read_csv('treated_data/csv/results.csv')\n",
    "season_2006 = season_2006[season_2006['season'] == 2006]\n",
    "season_2006['points'] = pd.to_numeric(season_2006['points'], errors='coerce')\n",
    "season_2006 = season_2006.sort_values(by=['raceId'])\n",
    "season_2006['cumulative_points'] = season_2006.groupby('driverId')['points'].cumsum()\n",
    "final_plot_data = season_2006[['driverId', 'raceId', 'cumulative_points']]\n",
    "total_points_per_driver = season_2006.groupby('driverId')['points'].sum().reset_index().rename(columns={'points': 'points_total'})\n",
    "final_plot_data = final_plot_data.merge(total_points_per_driver, on='driverId', how='left')\n",
    "final_plot_data = final_plot_data.sort_values(by=['points_total', 'raceId'], ascending=[False, True])\n",
    "sorted_drivers = total_points_per_driver['driverId'].tolist()\n",
    "final_plot_data.to_csv('treated_data/csv/2006_sorted_drivers.csv', index=False)\n",
    "driver_colors = {\n",
    "    'alonso': '#FFD700',  # Main driver for Renault\n",
    "    'fisichella': '#FFD700',  # Second driver for Renault\n",
    "    'michael_schumacher': '#DC0000',  # Main driver for Ferrari\n",
    "    'massa': '#DC0000',  # Second driver for Ferrari\n",
    "    'raikkonen': '#FF8700',  # Main driver for McLaren\n",
    "    'montoya': '#FF8700',  # Second driver for McLaren\n",
    "    'button': '#FFC0CB',  # Main driver for Honda\n",
    "    'barrichello': '#FFC0CB',  # Second driver for Honda\n",
    "    'webber': '#ADD8E6',  # Main driver for Williams\n",
    "    'rosberg': '#ADD8E6',  # Second driver for Williams\n",
    "    'coulthard': '#00008B',  # Main driver for Red Bull\n",
    "    'klien': '#00008B',  # Second driver for Red Bull\n",
    "    'ralf_schumacher': '#000000',  # Main driver for Toyota\n",
    "    'trulli': '#000000',  # Second driver for Toyota\n",
    "    'heidfeld': '#C8F4F6',  # Main driver for BMW Sauber\n",
    "    'villeneuve': '#C8F4F6',  # Second driver for BMW Sauber\n",
    "    'liuzzi': '#0000FF',  # Main driver for Toro Rosso\n",
    "    'speed': '#0000FF',  # Second driver for Toro Rosso\n",
    "    'monteiro': '#F75920',  # Main driver for MF1\n",
    "    'albers': '#F75920',  # Second driver for MF1\n",
    "    'sato': '#B4B4B4',  # Main driver for Super Aguri\n",
    "    'ide': '#B4B4B4'  # Second driver for Super Aguri\n",
    "}\n",
    "\n",
    "\n",
    "# Dictionary for custom line styles per driver (solid by default, dash or dot as specified)\n",
    "driver_line_styles = {\n",
    "    'alonso': 'solid',  # Main driver for Renault\n",
    "    'fisichella': 'dash',  # Second driver for Renault\n",
    "    'michael_schumacher': 'solid',  # Main driver for Ferrari\n",
    "    'massa': 'dash',  # Second driver for Ferrari\n",
    "    'raikkonen': 'solid',  # Main driver for McLaren\n",
    "    'montoya': 'dash',  # Second driver for McLaren\n",
    "    'button': 'solid',  # Main driver for Honda\n",
    "    'barrichello': 'dash',  # Second driver for Honda\n",
    "    'webber': 'solid',  # Main driver for Williams\n",
    "    'rosberg': 'dash',  # Second driver for Williams\n",
    "    'coulthard': 'solid',  # Main driver for Red Bull\n",
    "    'klien': 'dash',  # Second driver for Red Bull\n",
    "    'ralf_schumacher': 'solid',  # Main driver for Toyota\n",
    "    'trulli': 'dash',  # Second driver for Toyota\n",
    "    'heidfeld': 'solid',  # Main driver for BMW Sauber\n",
    "    'villeneuve': 'dash',  # Second driver for BMW Sauber\n",
    "    'liuzzi': 'solid',  # Main driver for Toro Rosso\n",
    "    'speed': 'dash',  # Second driver for Toro Rosso\n",
    "    'monteiro': 'solid',  # Main driver for MF1\n",
    "    'albers': 'dash',  # Second driver for MF1\n",
    "    'sato': 'solid',  # Main driver for Super Aguri\n",
    "    'ide': 'dash'  # Second driver for Super Aguri\n",
    "}\n",
    "\n",
    "\n",
    "final_plot_data['driverId'] = pd.Categorical(\n",
    "    final_plot_data['driverId'],\n",
    "    categories=sorted_drivers,\n",
    "    ordered=True\n",
    ")\n",
    "\n",
    "# Create the plot using Plotly Express\n",
    "fig = px.line(\n",
    "    final_plot_data,\n",
    "    x='raceId',\n",
    "    y='cumulative_points',\n",
    "    color='driverId',  # Ensures legend order\n",
    "    labels={'driverId': 'Driver', 'raceId': 'Race', 'cumulative_points': 'Cumulative Points'},\n",
    "    title='2006 Race for the Title'\n",
    ")\n",
    "\n",
    "# Convert to Graph Objects for detailed customization\n",
    "fig = go.Figure(fig)\n",
    "\n",
    "# Update colors and line styles based on custom definitions\n",
    "for trace in fig.data:\n",
    "    driver_name = trace.name.lower()  # Assuming driverId is used as name, adjust if necessary\n",
    "    trace.line.color = driver_colors.get(driver_name, '#3b3b3b')  # Default to gray if not specified\n",
    "    trace.line.dash = driver_line_styles.get(driver_name, 'solid')  # Default to solid if not specified\n",
    "\n",
    "fig.update_layout(\n",
    "    title='2006 Race for the Title',  # Adding a title\n",
    "    title_x=0.5,  # Center the title\n",
    "    paper_bgcolor='white',  # Set the background color around the plot\n",
    "    plot_bgcolor='white'  # Set the background color of the plot itself\n",
    ")\n",
    "fig.update_xaxes(\n",
    "    showgrid=True,\n",
    "    gridwidth=1,\n",
    "    gridcolor='lightgrey'\n",
    ")\n",
    "# Show the figure\n",
    "fig.show()\n"
   ]
  },
  {
   "cell_type": "code",
   "execution_count": 41,
   "metadata": {},
   "outputs": [
    {
     "name": "stdout",
     "output_type": "stream",
     "text": [
      "386\n",
      "32\n",
      "22\n",
      "106\n"
     ]
    }
   ],
   "source": [
    "# A plot (the type of plot yet to be decided) with Alonso's career in numbers, so:\n",
    "# Number of races (in total and per team)\n",
    "# Wins(in total and per team)\n",
    "# Poles(in total and per team)\n",
    "# Podiums(in total and per team)\n",
    "# Fastest Laps(in total and per team)\n",
    "# WDC(in total and per team)\n",
    "# And add buttons to select what teams to see\n",
    "\n",
    "# get total of number of races for alonso\n",
    "all_results = pd.read_csv('treated_data/csv/results.csv')\n",
    "all_results = all_results[all_results['driverId'] == 'alonso']\n",
    "all_wins = all_results[all_results['position'] == 1]\n",
    "all_poles = all_results[all_results['grid'] == 1]\n",
    "podiums = all_results[all_results['position'].isin([1, 2, 3])]\n",
    "print(all_results['raceId'].count())\n",
    "print(all_wins['raceId'].count())\n",
    "print(all_poles['raceId'].count())\n",
    "print(podiums['raceId'].count())\n",
    "# do we have fastest laps in the data?\n",
    "\n",
    "# plots total KM raced (per season, per team and total)\n",
    "# an easy way to do this is match the circuitid form circuit_info.csv with the circuitId from results.csv and sum the lengths\n"
   ]
  }
 ],
 "metadata": {
  "kernelspec": {
   "display_name": "Python 3",
   "language": "python",
   "name": "python3"
  },
  "language_info": {
   "codemirror_mode": {
    "name": "ipython",
    "version": 3
   },
   "file_extension": ".py",
   "mimetype": "text/x-python",
   "name": "python",
   "nbconvert_exporter": "python",
   "pygments_lexer": "ipython3",
   "version": "3.12.1"
  }
 },
 "nbformat": 4,
 "nbformat_minor": 2
}
