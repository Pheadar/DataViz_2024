{
 "cells": [
  {
   "cell_type": "code",
   "execution_count": 28,
   "metadata": {},
   "outputs": [],
   "source": [
    "import plotly.express as px\n",
    "import pandas as pd\n",
    "from datetime import datetime\n",
    "import plotly.graph_objects as go"
   ]
  },
  {
   "cell_type": "code",
   "execution_count": 76,
   "metadata": {},
   "outputs": [
    {
     "data": {
      "application/vnd.plotly.v1+json": {
       "config": {
        "plotlyServerURL": "https://plot.ly"
       },
       "data": [
        {
         "alignmentgroup": "True",
         "base": [
          "2001-01-01T00:00:00"
         ],
         "hovertemplate": "Constructors=%{y}<br>start.season=%{base}<br>End.season=%{x}<extra></extra>",
         "legendgroup": "Minardi",
         "marker": {
          "color": "black",
          "opacity": [
           1
          ],
          "pattern": {
           "shape": ""
          }
         },
         "name": "Minardi",
         "offsetgroup": "Minardi",
         "orientation": "h",
         "showlegend": true,
         "textposition": "auto",
         "type": "bar",
         "x": [
          63072000000
         ],
         "xaxis": "x",
         "y": [
          "Minardi"
         ],
         "yaxis": "y"
        },
        {
         "alignmentgroup": "True",
         "base": [
          "2003-01-01T00:00:00",
          "2008-01-01T00:00:00"
         ],
         "hovertemplate": "Constructors=%{y}<br>start.season=%{base}<br>End.season=%{x}<extra></extra>",
         "legendgroup": "Renault",
         "marker": {
          "color": "#fcd205",
          "opacity": [
           1,
           1
          ],
          "pattern": {
           "shape": ""
          }
         },
         "name": "Renault",
         "offsetgroup": "Renault",
         "orientation": "h",
         "showlegend": true,
         "textposition": "auto",
         "type": "bar",
         "x": [
          126230400000,
          63158400000
         ],
         "xaxis": "x",
         "y": [
          "Renault",
          "Renault"
         ],
         "yaxis": "y"
        },
        {
         "alignmentgroup": "True",
         "base": [
          "2007-01-01T00:00:00",
          "2015-01-01T00:00:00"
         ],
         "hovertemplate": "Constructors=%{y}<br>start.season=%{base}<br>End.season=%{x}<extra></extra>",
         "legendgroup": "McLaren",
         "marker": {
          "color": "#E56717",
          "opacity": [
           1,
           1
          ],
          "pattern": {
           "shape": ""
          }
         },
         "name": "McLaren",
         "offsetgroup": "McLaren",
         "orientation": "h",
         "showlegend": true,
         "textposition": "auto",
         "type": "bar",
         "x": [
          31536000000,
          126230400000
         ],
         "xaxis": "x",
         "y": [
          "McLaren",
          "McLaren"
         ],
         "yaxis": "y"
        },
        {
         "alignmentgroup": "True",
         "base": [
          "2010-01-01T00:00:00"
         ],
         "hovertemplate": "Constructors=%{y}<br>start.season=%{base}<br>End.season=%{x}<extra></extra>",
         "legendgroup": "Ferrari",
         "marker": {
          "color": "#F70D1A",
          "opacity": [
           1
          ],
          "pattern": {
           "shape": ""
          }
         },
         "name": "Ferrari",
         "offsetgroup": "Ferrari",
         "orientation": "h",
         "showlegend": true,
         "textposition": "auto",
         "type": "bar",
         "x": [
          157766400000
         ],
         "xaxis": "x",
         "y": [
          "Ferrari"
         ],
         "yaxis": "y"
        },
        {
         "alignmentgroup": "True",
         "base": [
          "2021-01-01T00:00:00"
         ],
         "hovertemplate": "Constructors=%{y}<br>start.season=%{base}<br>End.season=%{x}<extra></extra>",
         "legendgroup": "Alpine",
         "marker": {
          "color": "#2673E2",
          "opacity": [
           1
          ],
          "pattern": {
           "shape": ""
          }
         },
         "name": "Alpine",
         "offsetgroup": "Alpine",
         "orientation": "h",
         "showlegend": true,
         "textposition": "auto",
         "type": "bar",
         "x": [
          63072000000
         ],
         "xaxis": "x",
         "y": [
          "Alpine"
         ],
         "yaxis": "y"
        },
        {
         "alignmentgroup": "True",
         "base": [
          "2023-01-01T00:00:00",
          "2024-01-01T00:00:00"
         ],
         "hovertemplate": "Constructors=%{y}<br>start.season=%{base}<br>End.season=%{x}<extra></extra>",
         "legendgroup": "Aston Martin",
         "marker": {
          "color": "#004225",
          "opacity": [
           1,
           0.66
          ],
          "pattern": {
           "shape": ""
          }
         },
         "name": "Aston Martin",
         "offsetgroup": "Aston Martin",
         "orientation": "h",
         "showlegend": true,
         "textposition": "auto",
         "type": "bar",
         "x": [
          31536000000,
          63158400000
         ],
         "xaxis": "x",
         "y": [
          "Aston Martin",
          "Aston Martin"
         ],
         "yaxis": "y"
        }
       ],
       "layout": {
        "annotations": [
         {
          "align": "right",
          "font": {
           "color": "gold",
           "family": "Calibri",
           "size": 12,
           "weight": "bold"
          },
          "showarrow": false,
          "text": "Minardi",
          "x": "2002-10-20T00:00:00",
          "xanchor": "right",
          "y": "Minardi"
         },
         {
          "align": "right",
          "font": {
           "color": "grey",
           "family": "Calibri",
           "size": 12,
           "weight": "bold"
          },
          "showarrow": false,
          "text": "Renault",
          "x": "2009-10-19T21:36:00",
          "xanchor": "right",
          "y": "Renault"
         },
         {
          "align": "right",
          "font": {
           "color": "yellow",
           "family": "Calibri",
           "size": 12,
           "weight": "bold"
          },
          "showarrow": false,
          "text": "Ferrari",
          "x": "2014-07-02T09:36:00",
          "xanchor": "right",
          "y": "Ferrari"
         },
         {
          "align": "right",
          "font": {
           "color": "black",
           "family": "Calibri",
           "size": 12,
           "weight": "bold"
          },
          "showarrow": false,
          "text": "McLaren",
          "x": "2018-08-07T21:36:00",
          "xanchor": "right",
          "y": "McLaren"
         },
         {
          "align": "right",
          "font": {
           "color": "white",
           "family": "Calibri",
           "size": 12,
           "weight": "bold"
          },
          "showarrow": false,
          "text": "Alpine",
          "x": "2022-10-20T00:00:00",
          "xanchor": "right",
          "y": "Alpine"
         },
         {
          "align": "right",
          "font": {
           "color": "white",
           "family": "Calibri",
           "size": 12,
           "weight": "bold"
          },
          "showarrow": false,
          "text": "Aston Martin",
          "x": "2025-10-19T21:36:00",
          "xanchor": "right",
          "y": "Aston Martin"
         }
        ],
        "barmode": "overlay",
        "legend": {
         "title": {
          "text": "Constructors"
         },
         "tracegroupgap": 0
        },
        "margin": {
         "t": 60
        },
        "paper_bgcolor": "white",
        "plot_bgcolor": "white",
        "shapes": [
         {
          "line": {
           "color": "red",
           "width": 1.5
          },
          "type": "line",
          "x0": "2005-01-01",
          "x1": "2005-01-01",
          "y0": -0.5,
          "y1": 5.5
         },
         {
          "line": {
           "color": "red",
           "width": 1.5
          },
          "type": "line",
          "x0": "2006-01-02",
          "x1": "2006-01-02",
          "y0": -0.5,
          "y1": 5.5
         }
        ],
        "showlegend": false,
        "template": {
         "data": {
          "bar": [
           {
            "error_x": {
             "color": "#2a3f5f"
            },
            "error_y": {
             "color": "#2a3f5f"
            },
            "marker": {
             "line": {
              "color": "#E5ECF6",
              "width": 0.5
             },
             "pattern": {
              "fillmode": "overlay",
              "size": 10,
              "solidity": 0.2
             }
            },
            "type": "bar"
           }
          ],
          "barpolar": [
           {
            "marker": {
             "line": {
              "color": "#E5ECF6",
              "width": 0.5
             },
             "pattern": {
              "fillmode": "overlay",
              "size": 10,
              "solidity": 0.2
             }
            },
            "type": "barpolar"
           }
          ],
          "carpet": [
           {
            "aaxis": {
             "endlinecolor": "#2a3f5f",
             "gridcolor": "white",
             "linecolor": "white",
             "minorgridcolor": "white",
             "startlinecolor": "#2a3f5f"
            },
            "baxis": {
             "endlinecolor": "#2a3f5f",
             "gridcolor": "white",
             "linecolor": "white",
             "minorgridcolor": "white",
             "startlinecolor": "#2a3f5f"
            },
            "type": "carpet"
           }
          ],
          "choropleth": [
           {
            "colorbar": {
             "outlinewidth": 0,
             "ticks": ""
            },
            "type": "choropleth"
           }
          ],
          "contour": [
           {
            "colorbar": {
             "outlinewidth": 0,
             "ticks": ""
            },
            "colorscale": [
             [
              0,
              "#0d0887"
             ],
             [
              0.1111111111111111,
              "#46039f"
             ],
             [
              0.2222222222222222,
              "#7201a8"
             ],
             [
              0.3333333333333333,
              "#9c179e"
             ],
             [
              0.4444444444444444,
              "#bd3786"
             ],
             [
              0.5555555555555556,
              "#d8576b"
             ],
             [
              0.6666666666666666,
              "#ed7953"
             ],
             [
              0.7777777777777778,
              "#fb9f3a"
             ],
             [
              0.8888888888888888,
              "#fdca26"
             ],
             [
              1,
              "#f0f921"
             ]
            ],
            "type": "contour"
           }
          ],
          "contourcarpet": [
           {
            "colorbar": {
             "outlinewidth": 0,
             "ticks": ""
            },
            "type": "contourcarpet"
           }
          ],
          "heatmap": [
           {
            "colorbar": {
             "outlinewidth": 0,
             "ticks": ""
            },
            "colorscale": [
             [
              0,
              "#0d0887"
             ],
             [
              0.1111111111111111,
              "#46039f"
             ],
             [
              0.2222222222222222,
              "#7201a8"
             ],
             [
              0.3333333333333333,
              "#9c179e"
             ],
             [
              0.4444444444444444,
              "#bd3786"
             ],
             [
              0.5555555555555556,
              "#d8576b"
             ],
             [
              0.6666666666666666,
              "#ed7953"
             ],
             [
              0.7777777777777778,
              "#fb9f3a"
             ],
             [
              0.8888888888888888,
              "#fdca26"
             ],
             [
              1,
              "#f0f921"
             ]
            ],
            "type": "heatmap"
           }
          ],
          "heatmapgl": [
           {
            "colorbar": {
             "outlinewidth": 0,
             "ticks": ""
            },
            "colorscale": [
             [
              0,
              "#0d0887"
             ],
             [
              0.1111111111111111,
              "#46039f"
             ],
             [
              0.2222222222222222,
              "#7201a8"
             ],
             [
              0.3333333333333333,
              "#9c179e"
             ],
             [
              0.4444444444444444,
              "#bd3786"
             ],
             [
              0.5555555555555556,
              "#d8576b"
             ],
             [
              0.6666666666666666,
              "#ed7953"
             ],
             [
              0.7777777777777778,
              "#fb9f3a"
             ],
             [
              0.8888888888888888,
              "#fdca26"
             ],
             [
              1,
              "#f0f921"
             ]
            ],
            "type": "heatmapgl"
           }
          ],
          "histogram": [
           {
            "marker": {
             "pattern": {
              "fillmode": "overlay",
              "size": 10,
              "solidity": 0.2
             }
            },
            "type": "histogram"
           }
          ],
          "histogram2d": [
           {
            "colorbar": {
             "outlinewidth": 0,
             "ticks": ""
            },
            "colorscale": [
             [
              0,
              "#0d0887"
             ],
             [
              0.1111111111111111,
              "#46039f"
             ],
             [
              0.2222222222222222,
              "#7201a8"
             ],
             [
              0.3333333333333333,
              "#9c179e"
             ],
             [
              0.4444444444444444,
              "#bd3786"
             ],
             [
              0.5555555555555556,
              "#d8576b"
             ],
             [
              0.6666666666666666,
              "#ed7953"
             ],
             [
              0.7777777777777778,
              "#fb9f3a"
             ],
             [
              0.8888888888888888,
              "#fdca26"
             ],
             [
              1,
              "#f0f921"
             ]
            ],
            "type": "histogram2d"
           }
          ],
          "histogram2dcontour": [
           {
            "colorbar": {
             "outlinewidth": 0,
             "ticks": ""
            },
            "colorscale": [
             [
              0,
              "#0d0887"
             ],
             [
              0.1111111111111111,
              "#46039f"
             ],
             [
              0.2222222222222222,
              "#7201a8"
             ],
             [
              0.3333333333333333,
              "#9c179e"
             ],
             [
              0.4444444444444444,
              "#bd3786"
             ],
             [
              0.5555555555555556,
              "#d8576b"
             ],
             [
              0.6666666666666666,
              "#ed7953"
             ],
             [
              0.7777777777777778,
              "#fb9f3a"
             ],
             [
              0.8888888888888888,
              "#fdca26"
             ],
             [
              1,
              "#f0f921"
             ]
            ],
            "type": "histogram2dcontour"
           }
          ],
          "mesh3d": [
           {
            "colorbar": {
             "outlinewidth": 0,
             "ticks": ""
            },
            "type": "mesh3d"
           }
          ],
          "parcoords": [
           {
            "line": {
             "colorbar": {
              "outlinewidth": 0,
              "ticks": ""
             }
            },
            "type": "parcoords"
           }
          ],
          "pie": [
           {
            "automargin": true,
            "type": "pie"
           }
          ],
          "scatter": [
           {
            "fillpattern": {
             "fillmode": "overlay",
             "size": 10,
             "solidity": 0.2
            },
            "type": "scatter"
           }
          ],
          "scatter3d": [
           {
            "line": {
             "colorbar": {
              "outlinewidth": 0,
              "ticks": ""
             }
            },
            "marker": {
             "colorbar": {
              "outlinewidth": 0,
              "ticks": ""
             }
            },
            "type": "scatter3d"
           }
          ],
          "scattercarpet": [
           {
            "marker": {
             "colorbar": {
              "outlinewidth": 0,
              "ticks": ""
             }
            },
            "type": "scattercarpet"
           }
          ],
          "scattergeo": [
           {
            "marker": {
             "colorbar": {
              "outlinewidth": 0,
              "ticks": ""
             }
            },
            "type": "scattergeo"
           }
          ],
          "scattergl": [
           {
            "marker": {
             "colorbar": {
              "outlinewidth": 0,
              "ticks": ""
             }
            },
            "type": "scattergl"
           }
          ],
          "scattermapbox": [
           {
            "marker": {
             "colorbar": {
              "outlinewidth": 0,
              "ticks": ""
             }
            },
            "type": "scattermapbox"
           }
          ],
          "scatterpolar": [
           {
            "marker": {
             "colorbar": {
              "outlinewidth": 0,
              "ticks": ""
             }
            },
            "type": "scatterpolar"
           }
          ],
          "scatterpolargl": [
           {
            "marker": {
             "colorbar": {
              "outlinewidth": 0,
              "ticks": ""
             }
            },
            "type": "scatterpolargl"
           }
          ],
          "scatterternary": [
           {
            "marker": {
             "colorbar": {
              "outlinewidth": 0,
              "ticks": ""
             }
            },
            "type": "scatterternary"
           }
          ],
          "surface": [
           {
            "colorbar": {
             "outlinewidth": 0,
             "ticks": ""
            },
            "colorscale": [
             [
              0,
              "#0d0887"
             ],
             [
              0.1111111111111111,
              "#46039f"
             ],
             [
              0.2222222222222222,
              "#7201a8"
             ],
             [
              0.3333333333333333,
              "#9c179e"
             ],
             [
              0.4444444444444444,
              "#bd3786"
             ],
             [
              0.5555555555555556,
              "#d8576b"
             ],
             [
              0.6666666666666666,
              "#ed7953"
             ],
             [
              0.7777777777777778,
              "#fb9f3a"
             ],
             [
              0.8888888888888888,
              "#fdca26"
             ],
             [
              1,
              "#f0f921"
             ]
            ],
            "type": "surface"
           }
          ],
          "table": [
           {
            "cells": {
             "fill": {
              "color": "#EBF0F8"
             },
             "line": {
              "color": "white"
             }
            },
            "header": {
             "fill": {
              "color": "#C8D4E3"
             },
             "line": {
              "color": "white"
             }
            },
            "type": "table"
           }
          ]
         },
         "layout": {
          "annotationdefaults": {
           "arrowcolor": "#2a3f5f",
           "arrowhead": 0,
           "arrowwidth": 1
          },
          "autotypenumbers": "strict",
          "coloraxis": {
           "colorbar": {
            "outlinewidth": 0,
            "ticks": ""
           }
          },
          "colorscale": {
           "diverging": [
            [
             0,
             "#8e0152"
            ],
            [
             0.1,
             "#c51b7d"
            ],
            [
             0.2,
             "#de77ae"
            ],
            [
             0.3,
             "#f1b6da"
            ],
            [
             0.4,
             "#fde0ef"
            ],
            [
             0.5,
             "#f7f7f7"
            ],
            [
             0.6,
             "#e6f5d0"
            ],
            [
             0.7,
             "#b8e186"
            ],
            [
             0.8,
             "#7fbc41"
            ],
            [
             0.9,
             "#4d9221"
            ],
            [
             1,
             "#276419"
            ]
           ],
           "sequential": [
            [
             0,
             "#0d0887"
            ],
            [
             0.1111111111111111,
             "#46039f"
            ],
            [
             0.2222222222222222,
             "#7201a8"
            ],
            [
             0.3333333333333333,
             "#9c179e"
            ],
            [
             0.4444444444444444,
             "#bd3786"
            ],
            [
             0.5555555555555556,
             "#d8576b"
            ],
            [
             0.6666666666666666,
             "#ed7953"
            ],
            [
             0.7777777777777778,
             "#fb9f3a"
            ],
            [
             0.8888888888888888,
             "#fdca26"
            ],
            [
             1,
             "#f0f921"
            ]
           ],
           "sequentialminus": [
            [
             0,
             "#0d0887"
            ],
            [
             0.1111111111111111,
             "#46039f"
            ],
            [
             0.2222222222222222,
             "#7201a8"
            ],
            [
             0.3333333333333333,
             "#9c179e"
            ],
            [
             0.4444444444444444,
             "#bd3786"
            ],
            [
             0.5555555555555556,
             "#d8576b"
            ],
            [
             0.6666666666666666,
             "#ed7953"
            ],
            [
             0.7777777777777778,
             "#fb9f3a"
            ],
            [
             0.8888888888888888,
             "#fdca26"
            ],
            [
             1,
             "#f0f921"
            ]
           ]
          },
          "colorway": [
           "#636efa",
           "#EF553B",
           "#00cc96",
           "#ab63fa",
           "#FFA15A",
           "#19d3f3",
           "#FF6692",
           "#B6E880",
           "#FF97FF",
           "#FECB52"
          ],
          "font": {
           "color": "#2a3f5f"
          },
          "geo": {
           "bgcolor": "white",
           "lakecolor": "white",
           "landcolor": "#E5ECF6",
           "showlakes": true,
           "showland": true,
           "subunitcolor": "white"
          },
          "hoverlabel": {
           "align": "left"
          },
          "hovermode": "closest",
          "mapbox": {
           "style": "light"
          },
          "paper_bgcolor": "white",
          "plot_bgcolor": "#E5ECF6",
          "polar": {
           "angularaxis": {
            "gridcolor": "white",
            "linecolor": "white",
            "ticks": ""
           },
           "bgcolor": "#E5ECF6",
           "radialaxis": {
            "gridcolor": "white",
            "linecolor": "white",
            "ticks": ""
           }
          },
          "scene": {
           "xaxis": {
            "backgroundcolor": "#E5ECF6",
            "gridcolor": "white",
            "gridwidth": 2,
            "linecolor": "white",
            "showbackground": true,
            "ticks": "",
            "zerolinecolor": "white"
           },
           "yaxis": {
            "backgroundcolor": "#E5ECF6",
            "gridcolor": "white",
            "gridwidth": 2,
            "linecolor": "white",
            "showbackground": true,
            "ticks": "",
            "zerolinecolor": "white"
           },
           "zaxis": {
            "backgroundcolor": "#E5ECF6",
            "gridcolor": "white",
            "gridwidth": 2,
            "linecolor": "white",
            "showbackground": true,
            "ticks": "",
            "zerolinecolor": "white"
           }
          },
          "shapedefaults": {
           "line": {
            "color": "#2a3f5f"
           }
          },
          "ternary": {
           "aaxis": {
            "gridcolor": "white",
            "linecolor": "white",
            "ticks": ""
           },
           "baxis": {
            "gridcolor": "white",
            "linecolor": "white",
            "ticks": ""
           },
           "bgcolor": "#E5ECF6",
           "caxis": {
            "gridcolor": "white",
            "linecolor": "white",
            "ticks": ""
           }
          },
          "title": {
           "x": 0.05
          },
          "xaxis": {
           "automargin": true,
           "gridcolor": "white",
           "linecolor": "white",
           "ticks": "",
           "title": {
            "standoff": 15
           },
           "zerolinecolor": "white",
           "zerolinewidth": 2
          },
          "yaxis": {
           "automargin": true,
           "gridcolor": "white",
           "linecolor": "white",
           "ticks": "",
           "title": {
            "standoff": 15
           },
           "zerolinecolor": "white",
           "zerolinewidth": 2
          }
         }
        },
        "title": {
         "text": "Timeline of teams where Alonso drove",
         "x": 0.5
        },
        "xaxis": {
         "anchor": "y",
         "domain": [
          0,
          1
         ],
         "dtick": "M12",
         "gridcolor": "lightgrey",
         "gridwidth": 1,
         "range": [
          "2000-12-01",
          "2026-02-01"
         ],
         "showgrid": true,
         "tickmode": "linear",
         "type": "date"
        },
        "yaxis": {
         "anchor": "x",
         "autorange": "reversed",
         "categoryarray": [
          "Aston Martin",
          "Alpine",
          "Ferrari",
          "McLaren",
          "Renault",
          "Minardi"
         ],
         "categoryorder": "array",
         "domain": [
          0,
          1
         ],
         "title": {
          "text": "Constructors"
         }
        }
       }
      }
     },
     "metadata": {},
     "output_type": "display_data"
    }
   ],
   "source": [
    "# Main Timeline plot -------------------------------------------------------------------------------------------\n",
    "alo_data = pd.read_csv('DataViz_2024/treated_data/ALO_data_tableau.csv')\n",
    "\n",
    "alo_data['start.season'] = pd.to_datetime(alo_data['start.season'].astype(str), format='%Y')\n",
    "alo_data['End.season'] = pd.to_datetime(alo_data['End.season'].astype(str), format='%Y')\n",
    "\n",
    "color_map = {\n",
    "    \"Minardi\": \"black\", \n",
    "    \"Renault\": \"#fcd205\", # renault yellow\n",
    "    \"McLaren\": \"#E56717\", # papaya orange\n",
    "    \"Ferrari\": \"#F70D1A\", # Ferrari red\n",
    "    \"Alpine\": \"#2673E2\", # Alpine blue\n",
    "    \"Aston Martin\": \"#004225\" # british racing green\n",
    "}\n",
    "\n",
    "text_color_map = {\n",
    "    \"Minardi\": \"gold\",\n",
    "    \"Renault\": \"grey\",\n",
    "    \"McLaren\": \"black\",\n",
    "    \"Ferrari\": \"yellow\",\n",
    "    \"Alpine\": \"white\",\n",
    "    \"Aston Martin\": \"white\"\n",
    "}\n",
    "\n",
    "# Assuming alo_data is already loaded and processed\n",
    "current_year = datetime.now().year\n",
    "\n",
    "# Create the Gantt chart with Plotly Express\n",
    "fig = px.timeline(\n",
    "    alo_data,\n",
    "    x_start=\"start.season\",\n",
    "    x_end=\"End.season\",\n",
    "    y=\"Constructors\",\n",
    "    color=\"Constructors\",\n",
    "    color_discrete_map=color_map\n",
    ")\n",
    "\n",
    "# Convert Plotly Express figure to Plotly Graph Objects figure for custom adjustments\n",
    "fig = go.Figure(fig)\n",
    "\n",
    "# Adjusting the opacity for each trace based on the 'End.season' year\n",
    "for trace in fig.data:\n",
    "    end_years = alo_data[alo_data['Constructors'] == trace.name]['End.season'].dt.year\n",
    "    opacities = [0.66 if year > 2024 else 1 for year in end_years]\n",
    "    trace.marker.opacity = opacities\n",
    "\n",
    "last_periods = alo_data.groupby('Constructors')['End.season'].max()\n",
    "\n",
    "# Customize text color to contrast with the bar color and add annotations\n",
    "for index, row in alo_data.iterrows():\n",
    "    if row['End.season'] == last_periods[row['Constructors']]:\n",
    "        # Calculate position for the annotation\n",
    "        text_position = row['End.season'] - ((row['End.season'] - row['start.season']) / 10)\n",
    "        fig.add_annotation(\n",
    "            x=text_position, y=row['Constructors'],\n",
    "            text=row['Constructors'],\n",
    "            showarrow=False,\n",
    "            font=dict(\n",
    "                color=text_color_map[row['Constructors']],\n",
    "                size=12,  # Adjust size as needed\n",
    "                family='Calibri',  # You can specify the font family\n",
    "                weight='bold'  # Making text bold\n",
    "            ),\n",
    "            xanchor='right',\n",
    "            align='right')\n",
    "\n",
    "# Reverse the y-axis\n",
    "fig.update_yaxes(autorange=\"reversed\")\n",
    "\n",
    "# Hide the legend as it's redundant now\n",
    "fig.update_layout(showlegend=False)\n",
    "\n",
    "# Adding red lines for specific years\n",
    "years_of_interest = [\"2005-01-01\", \"2006-01-02\"]\n",
    "for year in years_of_interest:\n",
    "    fig.add_shape(\n",
    "        type=\"line\",\n",
    "        x0=year, x1=year,\n",
    "        y0=-0.5, y1=len(alo_data['Constructors'].unique()) - 0.5,\n",
    "        line=dict(color=\"red\", width=1.5)\n",
    "    )\n",
    "\n",
    "# Adjust x-axis ticks to show every year and set an upper limit for the x-axis\n",
    "fig.update_xaxes(\n",
    "    tickmode='linear',\n",
    "    dtick=\"M12\",\n",
    "    range=[\"2000-12-01\", \"2026-02-01\"],\n",
    "    showgrid=True,\n",
    "    gridwidth=1,\n",
    "    gridcolor='lightgrey'\n",
    ")\n",
    "fig.update_layout(\n",
    "    title='Timeline of teams where Alonso drove',  # Adding a title\n",
    "    title_x=0.5,  # Center the title\n",
    "    paper_bgcolor='white',  # Set the background color around the plot\n",
    "    plot_bgcolor='white'  # Set the background color of the plot itself\n",
    ")\n",
    "fig.show()"
   ]
  },
  {
   "cell_type": "code",
   "execution_count": null,
   "metadata": {},
   "outputs": [],
   "source": [
    "# 2005 season ---------------------------------------------------------------------------------------------------\n",
    "# The race for the title\n",
    "season_2005 = pd.read_csv('DataViz_2024/treated_data/season_2005.csv')"
   ]
  }
 ],
 "metadata": {
  "kernelspec": {
   "display_name": "Python 3",
   "language": "python",
   "name": "python3"
  },
  "language_info": {
   "codemirror_mode": {
    "name": "ipython",
    "version": 3
   },
   "file_extension": ".py",
   "mimetype": "text/x-python",
   "name": "python",
   "nbconvert_exporter": "python",
   "pygments_lexer": "ipython3",
   "version": "3.12.1"
  }
 },
 "nbformat": 4,
 "nbformat_minor": 2
}
